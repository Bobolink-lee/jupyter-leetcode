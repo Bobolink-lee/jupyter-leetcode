{
 "cells": [
  {
   "cell_type": "code",
   "execution_count": 30,
   "metadata": {},
   "outputs": [],
   "source": [
    "def solution(intervals:list[list[int]]) -> list[int]:\n",
    "    answer = []\n",
    "\n",
    "    # 对列表进行排序，以每个区间结束时间按升序排序\n",
    "    intervals.sort(key=lambda it:it[0])\n",
    "    intervals.sort(key=lambda it:it[1])\n",
    "    print(intervals)\n",
    "\n",
    "    # 将排序后的第一个区间放入解集中\n",
    "    answer.append(intervals[0])\n",
    "\n",
    "    # i和j为双指针，分别使用于answer和intervals列表，由于intervals第一个已经防入answer中，故j从1开始遍历\n",
    "    i = 0\n",
    "    j = 1\n",
    "\n",
    "    # 遍历interval列表，存在满足条件：\n",
    "    # 1、若answer[i][1] >= intervals[j][0]，意味着解集中的当前区间与intervals当前区间有交集，故可以合并，直接修改解集区间的结束时间\n",
    "    # 2、不满足上述条件时，意味着无交集，不可以合并，则直接将intervals区间放入解集中，更新i下标\n",
    "    while j < len(intervals):\n",
    "        if answer[i][1] >= intervals[j][0]:\n",
    "            answer[i][1] = intervals[j][1]\n",
    "        else:\n",
    "            answer.append(intervals[j])\n",
    "            i+=1\n",
    "        j += 1\n",
    "        \n",
    "    return answer"
   ]
  },
  {
   "cell_type": "code",
   "execution_count": 28,
   "metadata": {},
   "outputs": [],
   "source": [
    "def main():\n",
    "    intervals = [[1,4],[0,4]]\n",
    "    answer = solution(intervals)\n",
    "    print(answer)"
   ]
  },
  {
   "cell_type": "code",
   "execution_count": 29,
   "metadata": {},
   "outputs": [
    {
     "name": "stdout",
     "output_type": "stream",
     "text": [
      "[[0, 4], [1, 4]]\n",
      "[[0, 4]]\n"
     ]
    }
   ],
   "source": [
    "if __name__ == '__main__':\n",
    "    main()"
   ]
  }
 ],
 "metadata": {
  "kernelspec": {
   "display_name": "Python 3",
   "language": "python",
   "name": "python3"
  },
  "language_info": {
   "codemirror_mode": {
    "name": "ipython",
    "version": 3
   },
   "file_extension": ".py",
   "mimetype": "text/x-python",
   "name": "python",
   "nbconvert_exporter": "python",
   "pygments_lexer": "ipython3",
   "version": "3.10.2"
  },
  "orig_nbformat": 4,
  "vscode": {
   "interpreter": {
    "hash": "d30e6d4e6473c55ee31536bc57169ace291c153da81c0a4bb3e2b2828384d15a"
   }
  }
 },
 "nbformat": 4,
 "nbformat_minor": 2
}
