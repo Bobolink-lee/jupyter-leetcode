{
 "cells": [
  {
   "cell_type": "code",
   "execution_count": 1,
   "metadata": {},
   "outputs": [],
   "source": [
    "import math"
   ]
  },
  {
   "cell_type": "code",
   "execution_count": 67,
   "metadata": {},
   "outputs": [],
   "source": [
    "from typing import List\n",
    "class Solution:\n",
    "    def partition(self, s: str) -> List[List[str]]:\n",
    "        res = []\n",
    "        stack = []\n",
    "        length = len(s)\n",
    "\n",
    "        def isPart(st: str):\n",
    "            mid = len(st) // 2\n",
    "            return st[:mid] == st[:-mid-1:-1]\n",
    "        \n",
    "        def dfs(index, stack):\n",
    "            if index == length:\n",
    "                res.append(stack.copy())\n",
    "                return None\n",
    "        \n",
    "            cur = \"\"\n",
    "            for i in range(index, length):\n",
    "                cur += s[i]\n",
    "                if len(cur) and isPart(cur):\n",
    "                    stack.append(cur)\n",
    "                    dfs(index+len(cur), stack)\n",
    "                    del stack[-1]\n",
    "\n",
    "        dfs(0, stack)\n",
    "        return res\n",
    "        "
   ]
  },
  {
   "cell_type": "code",
   "execution_count": 68,
   "metadata": {},
   "outputs": [],
   "source": [
    "import time\n",
    "def main():\n",
    "    start = time.time() * 1000\n",
    "    s = \"afaf\"\n",
    "    sl = Solution()\n",
    "    res = sl.partition(s)\n",
    "    end = time.time() * 1000\n",
    "    print(f\"res = {res} and spend time：{end - start:.3f}\")\n",
    "    return None"
   ]
  },
  {
   "cell_type": "code",
   "execution_count": 69,
   "metadata": {},
   "outputs": [
    {
     "name": "stdout",
     "output_type": "stream",
     "text": [
      "res = [['a', 'f', 'a', 'f'], ['a', 'faf'], ['afa', 'f']] and spend time：0.000\n"
     ]
    }
   ],
   "source": [
    "if __name__ == \"__main__\":\n",
    "    main()"
   ]
  },
  {
   "cell_type": "code",
   "execution_count": 63,
   "metadata": {},
   "outputs": [
    {
     "name": "stdout",
     "output_type": "stream",
     "text": [
      "True e e\n"
     ]
    }
   ],
   "source": [
    "st = \"efe\"\n",
    "print(st[:len(st)//2] == st[:-(len(st)//2)-1:-1], st[:len(st)//2], st[:-(len(st)//2)-1:-1])"
   ]
  },
  {
   "cell_type": "code",
   "execution_count": null,
   "metadata": {},
   "outputs": [
    {
     "name": "stdout",
     "output_type": "stream",
     "text": [
      "[0, 1, 2, 3, 4]\n"
     ]
    }
   ],
   "source": [
    "print([i for i in range(5)])"
   ]
  },
  {
   "cell_type": "code",
   "execution_count": null,
   "metadata": {},
   "outputs": [],
   "source": []
  }
 ],
 "metadata": {
  "kernelspec": {
   "display_name": "base",
   "language": "python",
   "name": "python3"
  },
  "language_info": {
   "codemirror_mode": {
    "name": "ipython",
    "version": 3
   },
   "file_extension": ".py",
   "mimetype": "text/x-python",
   "name": "python",
   "nbconvert_exporter": "python",
   "pygments_lexer": "ipython3",
   "version": "3.9.13"
  }
 },
 "nbformat": 4,
 "nbformat_minor": 2
}
