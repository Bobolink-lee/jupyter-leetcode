{
 "cells": [
  {
   "cell_type": "code",
   "execution_count": 7,
   "metadata": {},
   "outputs": [],
   "source": [
    "from typing import List\n",
    "class Solution:\n",
    "    def findMedianSortedArrays(self, nums1: List[int], nums2: List[int]) -> float:\n",
    "        n, m = len(nums1), len(nums2)\n",
    "        \n",
    "        totalLength = n + m\n",
    "    \n",
    "        def getKthElement(k):\n",
    "            index1, index2= 0, 0\n",
    "            while True:\n",
    "                if index1 == n:\n",
    "                    return nums2[index2 + k -1]\n",
    "                if index2 == m:\n",
    "                    return nums1[index1 + k -1]\n",
    "                if k == 1:\n",
    "                    return min(nums1[index1], nums2[index2])\n",
    "\n",
    "                newIndex1 = min(index1 + k//2 -1, n-1)\n",
    "                newIndex2 = min(index2 + k//2 -1, m-1)\n",
    "                pivot1, pivot2 = nums1[newIndex1], nums2[newIndex2]\n",
    "                if pivot1 <= pivot2:\n",
    "                    k -= newIndex1 - index1 + 1\n",
    "                    index1 = newIndex1 + 1\n",
    "                else:\n",
    "                    k -= newIndex2 - index2 + 1\n",
    "                    index2 = newIndex2 + 1\n",
    "        \n",
    "        if totalLength % 2 == 1:\n",
    "            return getKthElement((totalLength + 1) // 2)\n",
    "        else:\n",
    "            return (getKthElement((totalLength // 2)) + getKthElement(totalLength // 2 + 1)) / 2\n",
    "    \n",
    "    def findMedianSortedArrays(self, nums1: List[int], nums2: List[int]) -> float:\n",
    "        if len(nums1) > len(nums2):\n",
    "            return self.findMedianSortedArrays(nums2, nums1)\n",
    "\n",
    "        infinty = 2**40\n",
    "        m, n = len(nums1), len(nums2)\n",
    "        left, right = 0, m\n",
    "        # median1：前一部分的最大值\n",
    "        # median2：后一部分的最小值\n",
    "        median1, median2 = 0, 0\n",
    "\n",
    "        while left <= right:\n",
    "            # 前一部分包含 nums1[0 .. i-1] 和 nums2[0 .. j-1]\n",
    "            # // 后一部分包含 nums1[i .. m-1] 和 nums2[j .. n-1]\n",
    "            i = (left + right) // 2\n",
    "            j = (m + n + 1) // 2 - i\n",
    "\n",
    "            # nums_im1, nums_i, nums_jm1, nums_j 分别表示 nums1[i-1], nums1[i], nums2[j-1], nums2[j]\n",
    "            nums_im1 = (-infinty if i == 0 else nums1[i - 1])\n",
    "            nums_i = (infinty if i == m else nums1[i])\n",
    "            nums_jm1 = (-infinty if j == 0 else nums2[j - 1])\n",
    "            nums_j = (infinty if j == n else nums2[j])\n",
    "\n",
    "            if nums_im1 <= nums_j:\n",
    "                median1, median2 = max(nums_im1, nums_jm1), min(nums_i, nums_j)\n",
    "                left = i + 1\n",
    "            else:\n",
    "                right = i - 1\n",
    "\n",
    "        return (median1 + median2) / 2 if (m + n) % 2 == 0 else median1"
   ]
  },
  {
   "cell_type": "code",
   "execution_count": 8,
   "metadata": {},
   "outputs": [],
   "source": [
    "def main():\n",
    "    nums1 = [1, 2]\n",
    "    nums2 = [3, 4]\n",
    "\n",
    "    s = Solution()\n",
    "    res = s.findMedianSortedArrays(nums1, nums2)\n",
    "    print(res)\n",
    "\n",
    "    return"
   ]
  },
  {
   "cell_type": "code",
   "execution_count": 9,
   "metadata": {},
   "outputs": [
    {
     "name": "stdout",
     "output_type": "stream",
     "text": [
      "2.5\n"
     ]
    }
   ],
   "source": [
    "if __name__ == \"__main__\":\n",
    "    main()"
   ]
  },
  {
   "cell_type": "code",
   "execution_count": null,
   "metadata": {},
   "outputs": [],
   "source": []
  },
  {
   "cell_type": "code",
   "execution_count": null,
   "metadata": {},
   "outputs": [],
   "source": []
  }
 ],
 "metadata": {
  "kernelspec": {
   "display_name": "base",
   "language": "python",
   "name": "python3"
  },
  "language_info": {
   "codemirror_mode": {
    "name": "ipython",
    "version": 3
   },
   "file_extension": ".py",
   "mimetype": "text/x-python",
   "name": "python",
   "nbconvert_exporter": "python",
   "pygments_lexer": "ipython3",
   "version": "3.9.13"
  }
 },
 "nbformat": 4,
 "nbformat_minor": 2
}
