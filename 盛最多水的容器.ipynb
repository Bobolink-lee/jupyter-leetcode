{
 "cells": [
  {
   "cell_type": "code",
   "execution_count": 5,
   "metadata": {},
   "outputs": [],
   "source": [
    "# 解题思路：双指针法\n",
    "#   1、本题需要尽可能地让 两个柱子中较低高度 最大 且 距离也尽可能地远。\n",
    "#   2、此处可以利用双指针，left 从左往右，right 从右往左，相互奔赴，从而可以让 距离尽可能地远，然后更新面积\n",
    "#   3、更新面积后，由于面积大小只由 较低高度的柱子 决定，故只需要较低柱子的下标移动\n",
    "def solution1(height: list[int]) -> int:\n",
    "    answer = 0\n",
    "\n",
    "    # 双指针\n",
    "    left = 0\n",
    "    right = len(height)-1\n",
    "\n",
    "    # 循环遍历，双向奔赴，O(n) 复杂度\n",
    "    while left <= right:\n",
    "        \n",
    "        # 取 两个柱子中较低的高度\n",
    "        h = min(height[left],height[right])\n",
    "\n",
    "        # 更新 面积大小\n",
    "        answer = max(answer,h*(right-left))\n",
    "\n",
    "        # 移动 较低柱子的下标\n",
    "        if height[left] <= height[right]:\n",
    "            left += 1\n",
    "        else :\n",
    "            right -= 1\n",
    "    \n",
    "    return answer\n"
   ]
  },
  {
   "cell_type": "code",
   "execution_count": 6,
   "metadata": {},
   "outputs": [],
   "source": [
    "'''\n",
    "    解题思路：双指针优化\n",
    "        1、总体思路与方法1一致，只是新增了一个 当前最大面积 的限制\n",
    "        2、直接获取列表中最大的高度，则无论选取哪两个柱子，其面积一定不超过 最大高度*两个柱子的距离\n",
    "        3、于是，可以利用 当前最大面积 的限制减少不必要的计算。\n",
    "        4、 由于 当前最大面积 最大高度已经确定，则 两个柱子的距离 决定 当前最大面积 大小，\n",
    "            而两个柱子的距离是逐渐减小的，故当 答案最大高度 >= 当前最大高度 的时候，便说明列表中间剩下部分 任意两个柱子形成的面积 均小于 答案最大高度\n",
    "            故无需计算\n",
    "        \n",
    "'''\n",
    "\n",
    "def solution2(height: list[int]) -> int:\n",
    "    answer = 0\n",
    "\n",
    "    left = 0\n",
    "    right = len(height)-1\n",
    "\n",
    "    # 获取列表中最大高度\n",
    "    max_h = max(height)\n",
    "\n",
    "    # 计算 当前最大面积 并限制\n",
    "    while left <= right and max_h*(right-left) > answer:\n",
    "        \n",
    "        h = min(height[left],height[right])\n",
    "\n",
    "        answer = max(answer,h*(right-left))\n",
    "\n",
    "        if height[left] <= height[right]:\n",
    "            left += 1\n",
    "        else :\n",
    "            right -= 1\n",
    "    \n",
    "    return answer"
   ]
  },
  {
   "cell_type": "code",
   "execution_count": 7,
   "metadata": {},
   "outputs": [],
   "source": [
    "'''\n",
    "    解题思路：双指针优化\n",
    "    1、与方法2不同，在方法1原来的基础上，通过剪枝减少不必要的计算\n",
    "    2、由于 最大面积 只由 两个柱子的距离 与 其较低的高度 决定，由于两个柱子的距离只会持续减小\n",
    "        故若后续柱子的高度连续也小于 当前的较低高度 则其面积一定小于当前面积，可以跳过\n",
    "'''\n",
    "\n",
    "def solution3(height: list[int]) -> int:\n",
    "    answer = 0\n",
    "\n",
    "    left = 0\n",
    "    right = len(height)-1\n",
    "\n",
    "    while left < right:\n",
    "        \n",
    "        h = min(height[left],height[right])\n",
    "\n",
    "        answer = max(answer,h*(right-left))\n",
    "\n",
    "        while height[left] <= h and left < right:\n",
    "            left += 1\n",
    "        while height[right] <= h and left < right:\n",
    "            right -= 1\n",
    "    \n",
    "    return answer"
   ]
  },
  {
   "cell_type": "code",
   "execution_count": 8,
   "metadata": {},
   "outputs": [],
   "source": [
    "def main():\n",
    "    height = [1,8,6,2,5,4,8,3,7]\n",
    "    answer1 = solution1(height)\n",
    "    answer2 = solution2(height)\n",
    "    answer3 = solution3(height)\n",
    "    print(answer1, answer2, answer3)"
   ]
  },
  {
   "cell_type": "code",
   "execution_count": 9,
   "metadata": {},
   "outputs": [
    {
     "name": "stdout",
     "output_type": "stream",
     "text": [
      "49 49 49\n"
     ]
    }
   ],
   "source": [
    "if __name__ == \"__main__\":\n",
    "    main()"
   ]
  }
 ],
 "metadata": {
  "kernelspec": {
   "display_name": "Python 3",
   "language": "python",
   "name": "python3"
  },
  "language_info": {
   "codemirror_mode": {
    "name": "ipython",
    "version": 3
   },
   "file_extension": ".py",
   "mimetype": "text/x-python",
   "name": "python",
   "nbconvert_exporter": "python",
   "pygments_lexer": "ipython3",
   "version": "3.10.2"
  },
  "orig_nbformat": 4,
  "vscode": {
   "interpreter": {
    "hash": "d30e6d4e6473c55ee31536bc57169ace291c153da81c0a4bb3e2b2828384d15a"
   }
  }
 },
 "nbformat": 4,
 "nbformat_minor": 2
}
