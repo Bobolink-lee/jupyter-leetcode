{
 "cells": [
  {
   "cell_type": "code",
   "execution_count": 38,
   "metadata": {},
   "outputs": [],
   "source": [
    "from typing import List\n",
    "class Solution:\n",
    "    def maxProduct0(self, nums: List[int]) -> int:\n",
    "        reverse_nums = nums[::-1]\n",
    "        for i in range(1, len(nums)):\n",
    "            nums[i] *= nums[i - 1] or 1\n",
    "            # 如果nums[i-1]是0的话就乘1 相当于从nums[i]重新开始\n",
    "            reverse_nums[i] *= reverse_nums[i - 1] or 1\n",
    "        return max(nums + reverse_nums)\n",
    "    \n",
    "    def maxProduct1(self, nums: List[int]) -> int:\n",
    "        maxf = minf = res = 1\n",
    "        for num in nums:\n",
    "            m, n  = maxf, minf\n",
    "            maxf = max(num, num * m, num * n)\n",
    "            minf = min(num, num * m, num * n)\n",
    "            res = max(maxf, res)\n",
    "        return res\n"
   ]
  },
  {
   "cell_type": "code",
   "execution_count": 39,
   "metadata": {},
   "outputs": [],
   "source": [
    "def main():\n",
    "    nums = [2,3,-2,4]\n",
    "    s = Solution()\n",
    "    res = s.maxProduct1(nums)\n",
    "    print(res)\n",
    "    return"
   ]
  },
  {
   "cell_type": "code",
   "execution_count": 40,
   "metadata": {},
   "outputs": [
    {
     "name": "stdout",
     "output_type": "stream",
     "text": [
      "1\n",
      "2\n",
      "6\n",
      "-2\n",
      "6\n"
     ]
    }
   ],
   "source": [
    "if __name__ == \"__main__\":\n",
    "    main()"
   ]
  },
  {
   "cell_type": "code",
   "execution_count": null,
   "metadata": {},
   "outputs": [],
   "source": []
  },
  {
   "cell_type": "code",
   "execution_count": null,
   "metadata": {},
   "outputs": [],
   "source": []
  }
 ],
 "metadata": {
  "kernelspec": {
   "display_name": "base",
   "language": "python",
   "name": "python3"
  },
  "language_info": {
   "codemirror_mode": {
    "name": "ipython",
    "version": 3
   },
   "file_extension": ".py",
   "mimetype": "text/x-python",
   "name": "python",
   "nbconvert_exporter": "python",
   "pygments_lexer": "ipython3",
   "version": "3.9.13"
  }
 },
 "nbformat": 4,
 "nbformat_minor": 2
}
