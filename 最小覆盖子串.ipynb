{
 "cells": [
  {
   "cell_type": "code",
   "execution_count": 53,
   "metadata": {},
   "outputs": [],
   "source": [
    "import collections\n",
    "class Solution:\n",
    "    '''\n",
    "        这道题太难了，放弃挣扎\n",
    "        官方思路：https://leetcode.cn/problems/minimum-window-substring/solutions/257359/zui-xiao-fu-gai-zi-chuan-by-leetcode-solution/\n",
    "        解题思路：\n",
    "            1、哈希表统计子串元素应该出现的次数，滑动窗口找到覆盖子串\n",
    "            2、难点在于，如何放缩滑动窗口大小，即什么时候滑动窗口头位置向后移动，什么时候滑动窗口尾部位置向后移动\n",
    "    '''\n",
    "    def minWindow(self, s: str, t: str) -> str:\n",
    "        # 记录所需收集的字符的个数\n",
    "        need=collections.defaultdict(int)\n",
    "        for c in t:\n",
    "            need[c] += 1\n",
    "        # 需要收集的字符的总个数\n",
    "        need_count = len(t)\n",
    "        # 记录结果字符串的开始索引和结束索引\n",
    "        # float('inf') 表示float型无穷大，ans是一个二元组，用于记录最终结果子串的头下标与尾下标\n",
    "        ans = (0, float('inf'))\n",
    "\n",
    "        # 滑动窗口的头位置\n",
    "        window_start = 0\n",
    "        # enumerate(s)，可以以二元组返回字符串的下标与对应元素，i 表示下标，c 表示对应元素\n",
    "        for i, c in enumerate(s):\n",
    "            # 如果need中仍需要收集c这个字符，那么need_count-1，代表当前这个字符收集了\n",
    "            if need[c] > 0:\n",
    "                need_count -= 1\n",
    "            # need中记录的个数可以为负数，为负数时代表着窗口中收集了多余的字符，是由于条件中主串在窗口中可能会出现重复的元素。\n",
    "            # 如果c字符是本身need中没有出现过的，说明该字符也是多余的，那么就会为赋负数\n",
    "            need[c] -= 1\n",
    "            \n",
    "\n",
    "            # 如果需要收集的字符个数为0，代表着已经收集完成，接下来只要处理窗口开头中多余的元素即可\n",
    "            if need_count == 0:\n",
    "                # 该循环主要是处理，窗口头部移动问题，\n",
    "                while True:\n",
    "                    current_c = s[window_start]\n",
    "                    # 当need_count为0时，代表已经收集完成，\n",
    "                    # 这时改变窗口开始索引遇到need中值为0的就代表着遇到了存在于字符串t中的字符，也就说明找到了一个完整的子串\n",
    "                    if need[current_c] == 0:\n",
    "                        break\n",
    "                    # 否则说明窗口头部元素是多余的，可能是重复的元素，也可能是本身就不是t子串中的元素，故移动窗口头\n",
    "                    # 并且对多余的元素进行恢复\n",
    "                    need[current_c] += 1\n",
    "                    window_start += 1\n",
    "                # 这时开始记录当前结果，如果当前结果长度小于原来结果长度，则更新\n",
    "                if i - window_start < ans[1] - ans[0]:\n",
    "                    ans = (window_start, i)\n",
    "                # 最后，窗口开始位置要向右移动，继续开始匹配子串\n",
    "                need[s[window_start]] += 1  # 代表着后面要再匹配多一个该字符\n",
    "                need_count += 1\n",
    "                window_start += 1\n",
    "\n",
    "        # 默认返回空字符串\n",
    "        return '' if ans[1] > len(s) else s[ans[0] : ans[1] + 1]"
   ]
  },
  {
   "cell_type": "code",
   "execution_count": 2,
   "metadata": {},
   "outputs": [],
   "source": [
    "def main():\n",
    "    s = \"ADOBECODEBANC\"\n",
    "    t = \"ABC\"\n",
    "\n",
    "    sl = Solution()\n",
    "\n",
    "    answer = sl.minWindow(s,t)\n",
    "    \n",
    "    print(answer)"
   ]
  },
  {
   "cell_type": "code",
   "execution_count": 52,
   "metadata": {},
   "outputs": [
    {
     "name": "stdout",
     "output_type": "stream",
     "text": [
      "defaultdict(<class 'int'>, {'A': 0, 'B': 1, 'C': 0, 'D': 0, 'O': 0, 'E': 0, 'N': -1})\n",
      "BANC\n"
     ]
    }
   ],
   "source": [
    "if __name__ == \"__main__\":\n",
    "    main()"
   ]
  }
 ],
 "metadata": {
  "kernelspec": {
   "display_name": "Python 3",
   "language": "python",
   "name": "python3"
  },
  "language_info": {
   "codemirror_mode": {
    "name": "ipython",
    "version": 3
   },
   "file_extension": ".py",
   "mimetype": "text/x-python",
   "name": "python",
   "nbconvert_exporter": "python",
   "pygments_lexer": "ipython3",
   "version": "3.10.2"
  },
  "orig_nbformat": 4,
  "vscode": {
   "interpreter": {
    "hash": "d30e6d4e6473c55ee31536bc57169ace291c153da81c0a4bb3e2b2828384d15a"
   }
  }
 },
 "nbformat": 4,
 "nbformat_minor": 2
}
