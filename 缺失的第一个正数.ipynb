{
 "cells": [
  {
   "cell_type": "code",
   "execution_count": 13,
   "metadata": {},
   "outputs": [],
   "source": [
    "'''\n",
    "    解题思路：根本想不到\n",
    "        1、题目要求找出无序数组中，未出现的最小正整数，时间复杂度为O(n)，空间复杂度为O(1)，思路难以想到。\n",
    "        2、采用哈希表，但不自定义一个新的哈希表，而是用原来数组形成一个哈希表，而且是比较特色的。\n",
    "        3、由于题目要求找到 未出现的最小正整数，假如数组中的元素为 nums[0] = 1, nums[1] = 2 ... nums[n-1] = n\n",
    "            则该数组中未出现的最小正整数应该是  n+1 也就是 nums.length+1;\n",
    "            若该数组中 出现有缺失或不符合 nums[i] = i+1 的元素时，则未出现的最小正整数应该是 i+1\n",
    "        4、基于此思想，我们需要把原来数组原地变换为满足条件 nums[i] = i+1 的数组。\n",
    "            但是原来数组是可能重复、乱序且带有负数的，故需要加上些条件判断；\n",
    "            重复与负数则跳过，由后续多次交换后，可能移到数组后方\n",
    "            负数判断条件：nums[i] > 0\n",
    "            重复判断条件：nums[nums[i]-1] != nums[i] （重复判断条件较难理解。）\n",
    "            假设此时判断 下标i 是否需要交换调整位置， 若满足 nums[i] = i+1，说明此时已经满足条件不需要调整位置；\n",
    "            否则需要调整，而对于 nums[i] 本应所处位置下标应该为 nums[i]-1 ，例如 nusm[2] = 4, 此时 i = 2， 但 4 ！= i+1 == 3\n",
    "            而 nums[2] = 4 应所处位置下标，应该为 nums[2]-1 = 3, 也就应该是nums[3]处应该存 nums[2] = 4，\n",
    "            此时，若 nums[3] 本身就等于4 ，则表示 nums[3] 已经满足条件， nums[2] 为重复元素且目前不满足条件，需要根据后续调整\n",
    "            若 nums[3] 本身不等于4，则nums[3] 不满足条件，则交换nums[2]与nums[3] 的值，使得nums[3]满足条件，nums[2]依然根据后续再调整\n",
    "            所以上述情况中若 nums[nums[i==2]-1] == nums[4-1] == nums[3] == nums[i==2] = 4 即nums[3]满足条件\n",
    "                         若 nums[nums[i==2]-1] == nums[4-1] == nums[3] != nums[i==2] = 4 即nums[3]不满足条件\n",
    "        5、通过调整后，数组基本满足nums[i] = i+1的条件，需要再一次遍历，找到不符合nums[i] = i+1的下标，返回i+1即可；\n",
    "            若都满足，则返回nums.length+1即可    \n",
    "'''\n",
    "\n",
    "class Solution:\n",
    "    # 该法时间效率较低，但空间要求较少      \n",
    "    def firstMissingPositive(self, nums: list[int]) -> int:\n",
    "\n",
    "        # 调整数组，实其成为特殊的哈希表\n",
    "        for i in range(len(nums)):\n",
    "\n",
    "            # 循环判断条件进行交换\n",
    "            # 由于 期望nums[i] = i+1 故nums[i] 理当满足 nums[i] <= len(nums)，进行交换，否则不进行交换随着后续会被放置后方\n",
    "            # 由于 期望nums[i] = i+1 故nums[i] 理当满足 nums[i] > 0， 进行交换，否则不进行交换随着后续会被放置后方\n",
    "            # 重复条件判断 nums[nums[i]-1] != nums[i]\n",
    "            while nums[i] <= len(nums) and nums[i] > 0 and nums[nums[i]-1] != nums[i]:\n",
    "                nums[nums[i]-1],nums[i] = nums[i],nums[nums[i]-1]\n",
    "\n",
    "        # 以原数组nums = [-1,0,-1,1,1,2,8,5,9,4,3,3] 为例\n",
    "        print(nums)\n",
    "        # 调整后数组为 nums = [1, 2, 3, 4, 5, 0, 1, 8, 9, -1, -1, 3] ,故第一个不符合条件的下标为5，则答案为5+1 = 6\n",
    "\n",
    "        # 再一次遍历数组，找到不符合条件的下标\n",
    "        for i in range(len(nums)):\n",
    "            if nums[i] != i+1:\n",
    "                return i+1\n",
    "        \n",
    "        # 若均符合则直接返回 nums.length+1\n",
    "        return len(nums)+1\n",
    " \n",
    "    '''\n",
    "        解题思路：哈希表官方解法，时间O(n),空间O(n)，效率较高，容易理解，推荐使用，内存贵还是cpu贵？\n",
    "            1、该方法放弃了空间O(1)解题思路，使用新的数组，并且将原来数组变为集合，集合用于删除重复元素\n",
    "            2、建立一个哈希数组，顺序存储 1至nums.length+1，用于一一映射对应关系。\n",
    "            3、由于题目性质，nums[i]应该与i+1对应，此处只需要化为集合，删除重复部分，\n",
    "                并且由哈希数组从1至nums.length+1遍历，便可以知道nums中第一个缺失的最小正整数是哪个\n",
    "    '''\n",
    "    def firstMissingPositive1(self, nums: list[int]) -> int:\n",
    "        # 哈希表 [1...n+1]\n",
    "        hash_list = list(range(1, len(nums) + 2))\n",
    "        # 将数组变为集合\n",
    "        nums = set(nums)\n",
    "\n",
    "        # 遍历哈希表，若哈希表元素 在 集合中不存在，则意味着该元素为原数组中最小正整数\n",
    "        for num in hash_list:\n",
    "            if num not in nums:\n",
    "                return num"
   ]
  },
  {
   "cell_type": "code",
   "execution_count": 14,
   "metadata": {},
   "outputs": [],
   "source": [
    "def main():\n",
    "    s = Solution()\n",
    "    nums = [-1,0,-1,1,1,2,8,5,9,4,3,3]\n",
    "    answer = s.firstMissingPositive(nums)\n",
    "    answer1 = s.firstMissingPositive1(nums)\n",
    "\n",
    "    print(answer)\n",
    "    print(answer1)"
   ]
  },
  {
   "cell_type": "code",
   "execution_count": 15,
   "metadata": {},
   "outputs": [
    {
     "name": "stdout",
     "output_type": "stream",
     "text": [
      "[1, 2, 3, 4, 5, 0, 1, 8, 9, -1, -1, 3]\n",
      "6\n",
      "6\n"
     ]
    }
   ],
   "source": [
    "if __name__ == \"__main__\":\n",
    "    main()"
   ]
  }
 ],
 "metadata": {
  "kernelspec": {
   "display_name": "Python 3",
   "language": "python",
   "name": "python3"
  },
  "language_info": {
   "codemirror_mode": {
    "name": "ipython",
    "version": 3
   },
   "file_extension": ".py",
   "mimetype": "text/x-python",
   "name": "python",
   "nbconvert_exporter": "python",
   "pygments_lexer": "ipython3",
   "version": "3.10.2"
  },
  "orig_nbformat": 4,
  "vscode": {
   "interpreter": {
    "hash": "d30e6d4e6473c55ee31536bc57169ace291c153da81c0a4bb3e2b2828384d15a"
   }
  }
 },
 "nbformat": 4,
 "nbformat_minor": 2
}
