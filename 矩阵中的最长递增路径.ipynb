{
 "cells": [
  {
   "cell_type": "code",
   "execution_count": 22,
   "metadata": {},
   "outputs": [],
   "source": [
    "from typing import List\n",
    "class Solution:\n",
    "    def longestIncreasingPath(self, matrix: List[List[int]]) -> int:\n",
    "        col = len(matrix)\n",
    "        row = len(matrix[0])\n",
    "\n",
    "        dp = [[0 for _ in range(row)] for _ in range(col)]\n",
    "        \n",
    "        answer = 1\n",
    "\n",
    "        for x in range(col):\n",
    "            for y in range(row):\n",
    "                if dp[x][y] == 0:\n",
    "                    self.dfs(col, row, x, y, matrix, dp)\n",
    "                    answer = max(answer, dp[x][y])\n",
    " \n",
    "        return answer\n",
    "    \n",
    "    def inofboard(self, col, row, i, j):\n",
    "        if 0 <= i < col and 0 <= j < row:\n",
    "            return True\n",
    "        else:\n",
    "            return False\n",
    "        \n",
    "    def bigger(self, col, row, x, y, i, j, matrix):\n",
    "        if self.inofboard(col, row, i, j) and matrix[x][y] > matrix[i][j]:\n",
    "            return True\n",
    "        else:\n",
    "            return False\n",
    "    \n",
    "    def dfs(self, col, row, i, j, matrix, dp):\n",
    "        dp[i][j] = 1\n",
    "        for k, l in ((1, 0), (0, 1), (-1, 0), (0, -1)):\n",
    "            if self.bigger(col, row, i, j, i+k, j+l, matrix):\n",
    "                if dp[i+k][j+l] == 0:\n",
    "                    self.dfs(col, row, i+k, j+l, matrix, dp)\n",
    "                dp[i][j] = max(dp[i][j], dp[i+k][j+l]+1)"
   ]
  },
  {
   "cell_type": "code",
   "execution_count": 23,
   "metadata": {},
   "outputs": [],
   "source": [
    "import time\n",
    "def main():\n",
    "    start = time.time()\n",
    "    matrix = [[3,4,5],[3,2,6],[2,2,1]]\n",
    "    s = Solution()\n",
    "    answer = s.longestIncreasingPath(matrix)\n",
    "    print(answer)\n",
    "    end = time.time()\n",
    "    print(f\"spend time {end - start:.3f}/sec\")\n",
    "    return None"
   ]
  },
  {
   "cell_type": "code",
   "execution_count": 24,
   "metadata": {},
   "outputs": [
    {
     "name": "stdout",
     "output_type": "stream",
     "text": [
      "4\n",
      "spend time 0.000/sec\n"
     ]
    }
   ],
   "source": [
    "if __name__ == \"__main__\":\n",
    "    main()"
   ]
  },
  {
   "cell_type": "code",
   "execution_count": null,
   "metadata": {},
   "outputs": [],
   "source": []
  }
 ],
 "metadata": {
  "kernelspec": {
   "display_name": "base",
   "language": "python",
   "name": "python3"
  },
  "language_info": {
   "codemirror_mode": {
    "name": "ipython",
    "version": 3
   },
   "file_extension": ".py",
   "mimetype": "text/x-python",
   "name": "python",
   "nbconvert_exporter": "python",
   "pygments_lexer": "ipython3",
   "version": "3.9.13"
  }
 },
 "nbformat": 4,
 "nbformat_minor": 2
}
