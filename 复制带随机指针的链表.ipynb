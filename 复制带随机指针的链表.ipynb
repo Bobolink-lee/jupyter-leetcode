{
 "cells": [
  {
   "cell_type": "code",
   "execution_count": 7,
   "metadata": {},
   "outputs": [],
   "source": [
    "from typing import Optional\n",
    "from collections import defaultdict"
   ]
  },
  {
   "cell_type": "code",
   "execution_count": 8,
   "metadata": {},
   "outputs": [],
   "source": [
    "class Node:\n",
    "    def __init__(self, x: int, next: 'Node' = None, random: 'Node' = None):\n",
    "        self.val = int(x)\n",
    "        self.next = next\n",
    "        self.random = random"
   ]
  },
  {
   "cell_type": "code",
   "execution_count": 33,
   "metadata": {},
   "outputs": [],
   "source": [
    "'''\n",
    "    解题思路：\n",
    "        1、使用哈希表，在python中使用defaultdict，获取值时，使用get()方法，若找不到对应的key时，\n",
    "        返回默认的值，若key的数据类型是一个类，则返回None。\n",
    "\n",
    "        大致过程则是：\n",
    "            1、遍历一边原链表，根据当前节点生成新节点，同时以当前节点为key，新节点为value，存入defaultdict中；\n",
    "            2、若defaultdict中存在当前节点的随机节点(即node.random)，则赋予新节点的随机节点，否则设为None；\n",
    "            3、再一次遍历原链表，将新链表中的未设有随机节点的节点，如第2步操作，遍历结束则新链表建成\n",
    "'''\n",
    "class Solution:\n",
    "    def copyRandomList(self, head: 'Optional[Node]') -> 'Optional[Node]':\n",
    "        ddict = defaultdict(Node)\n",
    "        new_head = Node(0)\n",
    "        node = head\n",
    "        p = new_head\n",
    "        while node is not None:\n",
    "            new_node = Node(node.val)\n",
    "            if node.random is None:\n",
    "                new_node.random = None\n",
    "            elif ddict.get(node.random) is not None:\n",
    "                new_node.random = ddict.get(node.random)\n",
    "            ddict[node] = new_node\n",
    "            p.next = new_node\n",
    "            p = p.next\n",
    "            node = node.next\n",
    "        new_head = new_head.next\n",
    "\n",
    "        node = head\n",
    "        new_node = new_head\n",
    "        while node is not None:\n",
    "            if node.random is None:\n",
    "                new_node.random = None\n",
    "            elif ddict.get(node.random) is not None:\n",
    "                new_node.random = ddict.get(node.random)\n",
    "            node = node.next\n",
    "            new_node = new_node.next\n",
    "\n",
    "        return new_head"
   ]
  },
  {
   "cell_type": "code",
   "execution_count": 37,
   "metadata": {},
   "outputs": [],
   "source": [
    "def main():\n",
    "    head = [[7,None],[13,0],[11,4],[10,2],[1,0]]\n",
    "    ddict = defaultdict(Node)\n",
    "    LinkLists = Node(0)\n",
    "    p = LinkLists\n",
    "    for i, nod in enumerate(head):\n",
    "        node = Node(nod[0])\n",
    "        ddict[i] = node\n",
    "        p.next = node\n",
    "        p = node\n",
    "    LinkLists = LinkLists.next\n",
    "\n",
    "    node = LinkLists\n",
    "    for it in head:\n",
    "        if it[1] is None:\n",
    "            node.random = None\n",
    "        else:\n",
    "            node.random = ddict[it[1]]\n",
    "        node = node.next\n",
    "    \n",
    "    s = Solution()\n",
    "    answer = s.copyRandomList(LinkLists)\n",
    "\n",
    "    return answer"
   ]
  },
  {
   "cell_type": "code",
   "execution_count": 38,
   "metadata": {},
   "outputs": [],
   "source": [
    "if __name__ == \"__main__\":\n",
    "    main()"
   ]
  },
  {
   "cell_type": "code",
   "execution_count": 23,
   "metadata": {},
   "outputs": [],
   "source": [
    "ddict = defaultdict(Node)\n",
    "\n",
    "ddict.setdefault(0, None)"
   ]
  },
  {
   "cell_type": "code",
   "execution_count": 29,
   "metadata": {},
   "outputs": [
    {
     "name": "stdout",
     "output_type": "stream",
     "text": [
      "None\n",
      "None\n"
     ]
    },
    {
     "data": {
      "text/plain": [
       "(None, None)"
      ]
     },
     "execution_count": 29,
     "metadata": {},
     "output_type": "execute_result"
    }
   ],
   "source": [
    "print(ddict[0]), print(ddict.get(Node(0)))"
   ]
  },
  {
   "cell_type": "code",
   "execution_count": null,
   "metadata": {},
   "outputs": [],
   "source": []
  }
 ],
 "metadata": {
  "kernelspec": {
   "display_name": "Python 3",
   "language": "python",
   "name": "python3"
  },
  "language_info": {
   "codemirror_mode": {
    "name": "ipython",
    "version": 3
   },
   "file_extension": ".py",
   "mimetype": "text/x-python",
   "name": "python",
   "nbconvert_exporter": "python",
   "pygments_lexer": "ipython3",
   "version": "3.10.2"
  },
  "orig_nbformat": 4
 },
 "nbformat": 4,
 "nbformat_minor": 2
}
