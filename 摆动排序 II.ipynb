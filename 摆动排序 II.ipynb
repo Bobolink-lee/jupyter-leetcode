{
 "cells": [
  {
   "cell_type": "code",
   "execution_count": 6,
   "metadata": {},
   "outputs": [],
   "source": [
    "import datetime\n",
    "from random import randint, seed\n",
    "from typing import List\n",
    "\n",
    "\"\"\"\n",
    "    解题思路：\n",
    "        \n",
    "\"\"\"\n",
    "class Helper:\n",
    "    @staticmethod\n",
    "    def quickSelect(arr: List, l: int, r: int, index: int) -> int:\n",
    "        q = Helper.randomPartition(arr, l, r)\n",
    "        if q == index:\n",
    "            return arr[q]\n",
    "        elif q < index:\n",
    "            return Helper.quickSelect(arr, q+1, r, index)\n",
    "        return Helper.quickSelect(arr, l, q-1, index)\n",
    "    @staticmethod\n",
    "    def randomPartition(nums: List, l: int, r: int) -> int:\n",
    "        i = randint(l, r)\n",
    "        nums[r], nums[i] = nums[i], nums[r]\n",
    "        return Helper.partition(nums, l, r)\n",
    "    \n",
    "    @staticmethod\n",
    "    def partition(nums: List, l: int, r: int) -> int:\n",
    "        pivot = nums[r]\n",
    "        i = l - 1\n",
    "        for j in range(l, r):\n",
    "            if nums[j] < pivot:\n",
    "                i += 1\n",
    "                nums[i], nums[j] = nums[j], nums[i]\n",
    "        nums[i+1], nums[r] = nums[r], nums[i+1]\n",
    "        return i + 1\n",
    "    \n",
    "\n",
    "class Solution:\n",
    "    def wiggleSort1(self, nums: List[int]) -> None:\n",
    "        \"\"\"\n",
    "        Do not return anything, modify nums in-place instead.\n",
    "        \"\"\"\n",
    "        n = len(nums)\n",
    "        arr = sorted(nums)\n",
    "        x = (n + 1) // 2\n",
    "        j, k = x - 1, n - 1\n",
    "        for i in range(0, n, 2):\n",
    "            nums[i] = arr[j]\n",
    "            if i + 1 < n:\n",
    "                nums[i + 1] = arr[k]\n",
    "            j -= 1\n",
    "            k -= 1\n",
    "\n",
    "    def wiggleSort2(self, nums: List[int]) -> None:\n",
    "        n = len(nums)\n",
    "        x = (n + 1) // 2\n",
    "\n",
    "        seed(datetime.datetim().now())\n",
    "        target = Helper.quickSelect(nums, 0, n-1, x-1)\n",
    "\n",
    "        k, i, j = 0, 0, n-1\n",
    "        while k <= j:\n",
    "            if nums[k] > target:\n",
    "                while j > k and nums[j] > target:\n",
    "                    j -= 1\n",
    "                nums[k], nums[j] = nums[j], nums[k]\n",
    "                j -= 1\n",
    "            if nums[k] < target:\n",
    "                nums[k], nums[i] = nums[i], nums[k]\n",
    "                i += 1\n",
    "            k += 1\n",
    "        arr = nums.copy()\n",
    "        j, x = x - 1, n - 1\n",
    "        for i in range(0, n, 2):\n",
    "            nums[i] = arr[j]\n",
    "            if i + 1 < n:\n",
    "                nums[i + 1] = arr[k]\n",
    "            j -= 1\n",
    "            k -= 1"
   ]
  },
  {
   "cell_type": "code",
   "execution_count": 9,
   "metadata": {},
   "outputs": [],
   "source": [
    "def main():\n",
    "    nums = [1,5,1,1,6,4]\n",
    "    s = Solution()\n",
    "    s.wiggleSort1(nums)\n",
    "    print(nums)\n",
    "    return None"
   ]
  },
  {
   "cell_type": "code",
   "execution_count": 10,
   "metadata": {},
   "outputs": [
    {
     "name": "stdout",
     "output_type": "stream",
     "text": [
      "[1, 6, 1, 5, 1, 4]\n"
     ]
    }
   ],
   "source": [
    "if __name__ == \"__main__\":\n",
    "    main()"
   ]
  },
  {
   "cell_type": "code",
   "execution_count": null,
   "metadata": {},
   "outputs": [],
   "source": []
  }
 ],
 "metadata": {
  "kernelspec": {
   "display_name": "base",
   "language": "python",
   "name": "python3"
  },
  "language_info": {
   "codemirror_mode": {
    "name": "ipython",
    "version": 3
   },
   "file_extension": ".py",
   "mimetype": "text/x-python",
   "name": "python",
   "nbconvert_exporter": "python",
   "pygments_lexer": "ipython3",
   "version": "3.9.13"
  }
 },
 "nbformat": 4,
 "nbformat_minor": 2
}
