{
 "cells": [
  {
   "cell_type": "code",
   "execution_count": 15,
   "metadata": {},
   "outputs": [],
   "source": [
    "'''\n",
    "    大佬详解：\n",
    "        本题详解 https://leetcode-cn.com/problems/find-the-duplicate-number/solution/287xun-zhao-zhong-fu-shu-by-kirsche/\n",
    "        环形链表 https://leetcode.cn/problems/linked-list-cycle-ii/solutions/12616/linked-list-cycle-ii-kuai-man-zhi-zhen-shuang-zhi-/\n",
    "    解题思路：环形快慢指针\n",
    "        1、主要思路就是把数组看作带环形，由于数组特点：nums.length = n+1，1 <= nums[i] <= n，则数组中必有一个数重复出现。\n",
    "        2、重复出现证明：由于 nums数组中共有 n+1 个整数，且任意元素大小均在 [1,n] 区间内，假设 nums 数组中 n 个元素分别是：\n",
    "            1、2、3...n 则 第n+1个元素又必然在 [1,n] 区间内取得，故第n+1个元素 k ∈ [1,n]，数组必然出现重复。\n",
    "        3、 找出环形：以题目数组为例：nums = [1,3,4,2,2]。由于数组下标范围为：[0,n]，故数组中任意元素均可作为下标。\n",
    "            使用快慢指针思路，数组元素做新下标，循环找环起点。由映射关系 下标i -> 数组元素nums[i]\n",
    "            则有：   \n",
    "                i = 0 -> nums[i] = 1\n",
    "                i = 1 -> nums[i] = 3        \n",
    "                i = 3 -> nums[i] = 2\n",
    "                i = 2 -> nums[i] = 4\n",
    "                i = 4 -> nums[i] = 2\n",
    "                i = 2 -> nums[i] = 4\n",
    "                i = 4 -> nums[i] = 2\n",
    "                ...\n",
    "            如此往复，可以知道数组中出现了环 2->4->2->4...，并且 元素2 是重复元素也是环的起点。\n",
    "            基于此思路，使用快慢指针，slow = nums[slow]、fast = nums[nums[fast]]，则由环加快慢指针性质，\n",
    "            slow和fast必然在环中某处相撞（即同时处于环中某一处位置）。由环形链表可知，slow从新开始，fast继续沿着环走，可以找到环起点\n",
    "\n",
    "            快慢指针找到环起点证明：\n",
    "                1、 假设此时slow和fast已经在环中相撞。\n",
    "                    设  环内步数（元素数）有 X个、 环外步数（元素数）有 Y 个、总元素数 N = X+Y\n",
    "                        slow 已走步数 A 、 fast 已走步数 B 、 slow 已走圈数 n、slow和fast所处位置距离环起点 Z 步\n",
    "                    由于 fast 比 slow 在环内需要多走一圈，且 fast 走两步，slow 走一步 ，故有\n",
    "                    B = 2*A\n",
    "                    A = n*X+Z+Y\n",
    "                    B = (n+1)*X+Z+Y\n",
    "                    欲求环起点，便是求环外步数 Y\n",
    "\n",
    "                    上式计算得，\n",
    "                        X = n*X+Z+Y 由于X实际是正数，可知n必然为0，于是知道slow走了0圈，fast走了一圈\n",
    "                        X = Z+Y ==> X-Z = Y\n",
    "                        可以得出结论，slow和fast所在位置到达环起点的剩下步数X-Z 等于 环外步数 Y\n",
    "            \n",
    "            便可以利用此特点，slow回到链表表头开始，fast沿着环一步一步走，第二次相遇时便是环起点。\n",
    "    \n",
    "    太难了，自己想证明这些都想半天，而且感觉还是有不对😭😭😭😭\n",
    "'''\n",
    "\n",
    "# 时间复杂度O(n)，空间复杂度O(1),满足题目不修改原数组条件\n",
    "class Solution:\n",
    "    def findDuplicate(self, nums: list[int]) -> int:\n",
    "\n",
    "        # slow 慢指针、fast 快指针\n",
    "        slow = nums[0]\n",
    "        fast = nums[nums[0]]\n",
    "\n",
    "        # 当slow == fast时，说明他们在环中第一次相遇了\n",
    "        while slow != fast:\n",
    "            slow = nums[slow]\n",
    "            fast = nums[nums[fast]]\n",
    "        \n",
    "        # 让slow回到链表表头，此题则是元素头\n",
    "        slow = 0\n",
    "\n",
    "        # 利用快慢指针第二次相遇，找到环起点，环起点亦是重复元素返回即可\n",
    "        while slow != fast:\n",
    "            slow = nums[slow]\n",
    "            fast = nums[fast]\n",
    "\n",
    "        return slow"
   ]
  },
  {
   "cell_type": "code",
   "execution_count": 17,
   "metadata": {},
   "outputs": [],
   "source": [
    "def main():\n",
    "    s = Solution()\n",
    "    nums = [1,3,4,2,2]\n",
    "\n",
    "    answer = s.findDuplicate(nums)\n",
    "\n",
    "    print(answer)"
   ]
  },
  {
   "cell_type": "code",
   "execution_count": 18,
   "metadata": {},
   "outputs": [
    {
     "name": "stdout",
     "output_type": "stream",
     "text": [
      "1\n"
     ]
    }
   ],
   "source": [
    "if __name__ == \"__main__\":\n",
    "    main()"
   ]
  }
 ],
 "metadata": {
  "kernelspec": {
   "display_name": "Python 3",
   "language": "python",
   "name": "python3"
  },
  "language_info": {
   "codemirror_mode": {
    "name": "ipython",
    "version": 3
   },
   "file_extension": ".py",
   "mimetype": "text/x-python",
   "name": "python",
   "nbconvert_exporter": "python",
   "pygments_lexer": "ipython3",
   "version": "3.10.2"
  },
  "orig_nbformat": 4,
  "vscode": {
   "interpreter": {
    "hash": "d30e6d4e6473c55ee31536bc57169ace291c153da81c0a4bb3e2b2828384d15a"
   }
  }
 },
 "nbformat": 4,
 "nbformat_minor": 2
}
