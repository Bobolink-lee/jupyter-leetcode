{
 "cells": [
  {
   "cell_type": "code",
   "execution_count": 1,
   "metadata": {},
   "outputs": [],
   "source": [
    "from collections import deque\n",
    "from typing import Optional, List\n",
    "from queue import PriorityQueue"
   ]
  },
  {
   "cell_type": "code",
   "execution_count": 2,
   "metadata": {},
   "outputs": [],
   "source": [
    "class ListNode:\n",
    "    def __init__(self, val=0, next=None) -> None:\n",
    "        self.val = val\n",
    "        self.next = next"
   ]
  },
  {
   "cell_type": "code",
   "execution_count": 3,
   "metadata": {},
   "outputs": [],
   "source": [
    "'''\n",
    "    解题思路：\n",
    "        1、使用升序队列，获取所有链表的所有值，由升序队列维护升序顺序，最后再遍历升序队列，转成链表。时复：O(n^2)，空复：O(n)\n",
    "'''\n",
    "def mergeKLists(lists: List[Optional[ListNode]]) -> Optional[ListNode]:\n",
    "        answer = ListNode()\n",
    "        p_queue = PriorityQueue()\n",
    "        for it in lists:\n",
    "            node = it\n",
    "            while node is not None:\n",
    "                p_queue.put(node.val)\n",
    "                node = node.next\n",
    "        \n",
    "        p = answer\n",
    "        while not p_queue.empty():\n",
    "             p.next = ListNode(p_queue.get())\n",
    "             p = p.next\n",
    "        return answer.next\n",
    "        "
   ]
  },
  {
   "cell_type": "code",
   "execution_count": 16,
   "metadata": {},
   "outputs": [],
   "source": [
    "def mergeTwoList(list1: Optional[ListNode], list2: Optional[ListNode]) -> Optional[ListNode]:\n",
    "    if list1 is None:\n",
    "        return list2\n",
    "    elif list2 is None:\n",
    "        return list1\n",
    "    \n",
    "    p = list1\n",
    "    q = list2\n",
    "    head = ListNode()\n",
    "    node = head\n",
    "    while p is not None and q is not None:\n",
    "        if p.val < q.val:\n",
    "            node.next = p\n",
    "            p = p.next\n",
    "        else:\n",
    "            node.next = q\n",
    "            q = q.next\n",
    "        node = node.next\n",
    "    \n",
    "    if p is None:\n",
    "        node.next = q\n",
    "    if q is None:\n",
    "        node.next = p\n",
    "    \n",
    "    return head.next\n",
    "    "
   ]
  },
  {
   "cell_type": "code",
   "execution_count": 17,
   "metadata": {},
   "outputs": [],
   "source": [
    "def mergeDivid(lists: List[Optional[ListNode]], listSize: int):\n",
    "    if listSize == 0:\n",
    "        return None\n",
    "    elif listSize == 1:\n",
    "        return lists[0]\n",
    "    elif listSize == 2:\n",
    "        return mergeTwoList(lists[0], lists[1])\n",
    "    else:\n",
    "        mid = listSize // 2\n",
    "        return mergeTwoList(mergeDivid(lists[:mid], mid), mergeDivid(lists[mid:], listSize-mid))"
   ]
  },
  {
   "cell_type": "code",
   "execution_count": 18,
   "metadata": {},
   "outputs": [],
   "source": [
    "'''\n",
    "    解题思路：\n",
    "        2、使用分治+链表合并，如果只有两个链表，则直接合并，如果超过两个链表，则两两合并。时复：O(r*max(n)), 空复：O(n)\n",
    "'''\n",
    "def mergeKLists1(lists: List[Optional[ListNode]]) -> Optional[ListNode]:\n",
    "        return mergeDivid(lists, len(lists))"
   ]
  },
  {
   "cell_type": "code",
   "execution_count": 19,
   "metadata": {},
   "outputs": [],
   "source": [
    "def main():\n",
    "    temp = [[1,4,5],[1,3,4],[2,6]]\n",
    "    lists = []\n",
    "\n",
    "    for col in temp:\n",
    "        head = ListNode()\n",
    "        tail = head\n",
    "        for row in col:\n",
    "            tail.next = ListNode(row)\n",
    "            tail = tail.next\n",
    "        lists.append(head.next)\n",
    "    \n",
    "    answer = mergeKLists1(lists=lists)\n",
    "\n",
    "    node = answer\n",
    "    while node is not None:\n",
    "        print(node.val)\n",
    "        node = node.next\n",
    "    "
   ]
  },
  {
   "cell_type": "code",
   "execution_count": 20,
   "metadata": {},
   "outputs": [
    {
     "name": "stdout",
     "output_type": "stream",
     "text": [
      "1\n",
      "1\n",
      "2\n",
      "3\n",
      "4\n",
      "4\n",
      "5\n",
      "6\n"
     ]
    }
   ],
   "source": [
    "if __name__ == \"__main__\":\n",
    "    main()"
   ]
  },
  {
   "cell_type": "code",
   "execution_count": null,
   "metadata": {},
   "outputs": [],
   "source": []
  },
  {
   "cell_type": "code",
   "execution_count": null,
   "metadata": {},
   "outputs": [],
   "source": []
  }
 ],
 "metadata": {
  "kernelspec": {
   "display_name": "Python 3",
   "language": "python",
   "name": "python3"
  },
  "language_info": {
   "codemirror_mode": {
    "name": "ipython",
    "version": 3
   },
   "file_extension": ".py",
   "mimetype": "text/x-python",
   "name": "python",
   "nbconvert_exporter": "python",
   "pygments_lexer": "ipython3",
   "version": "3.10.2"
  },
  "orig_nbformat": 4,
  "vscode": {
   "interpreter": {
    "hash": "d30e6d4e6473c55ee31536bc57169ace291c153da81c0a4bb3e2b2828384d15a"
   }
  }
 },
 "nbformat": 4,
 "nbformat_minor": 2
}
