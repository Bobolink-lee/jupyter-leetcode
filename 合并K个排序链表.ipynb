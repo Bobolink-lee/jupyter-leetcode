{
 "cells": [
  {
   "cell_type": "code",
   "execution_count": 12,
   "metadata": {},
   "outputs": [],
   "source": [
    "from collections import deque\n",
    "from typing import Optional, List\n",
    "from queue import PriorityQueue"
   ]
  },
  {
   "cell_type": "code",
   "execution_count": 13,
   "metadata": {},
   "outputs": [],
   "source": [
    "class ListNode:\n",
    "    def __init__(self, val=0, next=None) -> None:\n",
    "        self.val = val\n",
    "        self.next = next"
   ]
  },
  {
   "cell_type": "code",
   "execution_count": 21,
   "metadata": {},
   "outputs": [],
   "source": [
    "'''\n",
    "    解题思路：\n",
    "        1、使用升序队列，获取所有链表的所有值，由升序队列维护升序顺序，最后再遍历升序队列，转成链表。时复：O(n^2)，空复：O(n)\n",
    "'''\n",
    "def mergeKLists(lists: List[Optional[ListNode]]) -> Optional[ListNode]:\n",
    "        answer = ListNode()\n",
    "        p_queue = PriorityQueue()\n",
    "        for it in lists:\n",
    "            node = it\n",
    "            while node is not None:\n",
    "                p_queue.put(node.val)\n",
    "                node = node.next\n",
    "        \n",
    "        p = answer\n",
    "        while not p_queue.empty():\n",
    "             p.next = ListNode(p_queue.get())\n",
    "             p = p.next\n",
    "        return answer.next\n",
    "        "
   ]
  },
  {
   "cell_type": "code",
   "execution_count": 22,
   "metadata": {},
   "outputs": [],
   "source": [
    "def main():\n",
    "    temp = [[1,4,5],[1,3,4],[2,6]]\n",
    "    lists = []\n",
    "\n",
    "    for col in temp:\n",
    "        head = ListNode()\n",
    "        tail = head\n",
    "        for row in col:\n",
    "            tail.next = ListNode(row)\n",
    "            tail = tail.next\n",
    "        lists.append(head.next)\n",
    "    \n",
    "    answer = mergeKLists(lists=lists)\n",
    "\n",
    "    node = answer\n",
    "    while node is not None:\n",
    "        print(node.val)\n",
    "        node = node.next\n",
    "    "
   ]
  },
  {
   "cell_type": "code",
   "execution_count": 23,
   "metadata": {},
   "outputs": [
    {
     "name": "stdout",
     "output_type": "stream",
     "text": [
      "1\n",
      "1\n",
      "2\n",
      "3\n",
      "4\n",
      "4\n",
      "5\n",
      "6\n"
     ]
    }
   ],
   "source": [
    "if __name__ == \"__main__\":\n",
    "    main()"
   ]
  },
  {
   "cell_type": "code",
   "execution_count": null,
   "metadata": {},
   "outputs": [],
   "source": []
  },
  {
   "cell_type": "code",
   "execution_count": null,
   "metadata": {},
   "outputs": [],
   "source": []
  }
 ],
 "metadata": {
  "kernelspec": {
   "display_name": "Python 3",
   "language": "python",
   "name": "python3"
  },
  "language_info": {
   "codemirror_mode": {
    "name": "ipython",
    "version": 3
   },
   "file_extension": ".py",
   "mimetype": "text/x-python",
   "name": "python",
   "nbconvert_exporter": "python",
   "pygments_lexer": "ipython3",
   "version": "3.10.2"
  },
  "orig_nbformat": 4,
  "vscode": {
   "interpreter": {
    "hash": "d30e6d4e6473c55ee31536bc57169ace291c153da81c0a4bb3e2b2828384d15a"
   }
  }
 },
 "nbformat": 4,
 "nbformat_minor": 2
}
