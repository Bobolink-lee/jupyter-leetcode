{
 "cells": [
  {
   "cell_type": "code",
   "execution_count": 4,
   "metadata": {},
   "outputs": [],
   "source": [
    "from typing import List\n",
    "from heapq import heappush, heappop\n",
    "class Solution:\n",
    "    def numsGame(self, nums: List[int]) -> List[int]:\n",
    "        n = len(nums)\n",
    "        res = [0] * n\n",
    "        lower, upper = [], []   # 双优先队列，lower降序，upper升序，维持满足条件，max(lower) <= min(upper), len(upper) <= len(lower) <= len(upper)+1\n",
    "        lowerSum, upperSum = 0, 0 # 队列计数\n",
    "        mod = int(1e9+7)    # 题目要求取模\n",
    "        for i in range(n):\n",
    "            x = nums[i] - i    # 题目要求等价于j∈[0, i), 满足nums[j]+1 = nums[j+1]所需操作数 等价于 满足nums[j]-j操作成中位数所需操作数\n",
    "            if len(lower) == 0 or -lower[0] >= x:\n",
    "                lowerSum += x       # 由于python优先队列无法做降序的原因，只能通过给数值添加负号，使得越小的负值越在前\n",
    "                heappush(lower, -x)     # 取出时候再添以负号，使其变回最大值\n",
    "                if len(lower) > len(upper) + 1:\n",
    "                    upperSum -= lower[0]\n",
    "                    heappush(upper, -lower[0])\n",
    "                    lowerSum += heappop(lower)\n",
    "            else:\n",
    "                upperSum += x\n",
    "                heappush(upper, x)\n",
    "                if len(lower) < len(upper):\n",
    "                    lowerSum += upper[0]\n",
    "                    heappush(lower, -upper[0])\n",
    "                    upperSum -= heappop(upper)\n",
    "            if (i + 1) % 2 == 0:    # i+1为偶数，则说明i为奇数，[0, i]个数为偶数，len(upperSum) == len(lowerSum)，故中位数t为max(lower)<=t<=min(upper)\n",
    "                res[i] = (upperSum - lowerSum) % mod\n",
    "            else:   # i+1为奇数，则说明i为偶数，[0, i]个数为奇数，len(upperSum)+1 == len(lowerSum)，故中位数t为max(lower)\n",
    "                res[i] = (upperSum - lowerSum - lower[0]) % mod\n",
    "        return res"
   ]
  },
  {
   "cell_type": "code",
   "execution_count": 5,
   "metadata": {},
   "outputs": [],
   "source": [
    "def main():\n",
    "    nums = [3,4,5,1,6,7]\n",
    "    s = Solution()\n",
    "    ans = s.numsGame(nums)\n",
    "    print(ans)\n",
    "    return"
   ]
  },
  {
   "cell_type": "code",
   "execution_count": 6,
   "metadata": {},
   "outputs": [
    {
     "name": "stdout",
     "output_type": "stream",
     "text": [
      "[0, 0, 0, 5, 6, 7]\n"
     ]
    }
   ],
   "source": [
    "if __name__ == \"__main__\":\n",
    "    main()"
   ]
  },
  {
   "cell_type": "code",
   "execution_count": null,
   "metadata": {},
   "outputs": [],
   "source": []
  }
 ],
 "metadata": {
  "kernelspec": {
   "display_name": "Python 3",
   "language": "python",
   "name": "python3"
  },
  "language_info": {
   "codemirror_mode": {
    "name": "ipython",
    "version": 3
   },
   "file_extension": ".py",
   "mimetype": "text/x-python",
   "name": "python",
   "nbconvert_exporter": "python",
   "pygments_lexer": "ipython3",
   "version": "3.9.13"
  }
 },
 "nbformat": 4,
 "nbformat_minor": 2
}
