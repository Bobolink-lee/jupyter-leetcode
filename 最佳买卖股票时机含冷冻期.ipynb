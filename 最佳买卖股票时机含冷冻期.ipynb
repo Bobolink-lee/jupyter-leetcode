{
 "cells": [
  {
   "cell_type": "code",
   "execution_count": 20,
   "metadata": {},
   "outputs": [],
   "source": [
    "from typing import List\n",
    "class Solution:\n",
    "    def maxProfit(self, prices: List[int]) -> int:\n",
    "        dp = [[0 for _ in range(3)]for _ in range(len(prices))] #0:买入 1:卖出 2:冷冻期\n",
    "        dp[0][0]=-prices[0]  #不同状态手里的钱\n",
    "        for i in range(1,len(prices)):\n",
    "            dp[i][0] = max(dp[i-1][0],dp[i-1][2]-prices[i]) #i天买入股票，可能是i-1天买入，i-1冷冻后买入的\n",
    "            dp[i][1] = max(dp[i-1][1],dp[i-1][0]+prices[i])\n",
    "            dp[i][2] = dp[i-1][1]  #冷冻期只能是前一天卖出\n",
    "        return max(dp[-1])\n"
   ]
  },
  {
   "cell_type": "code",
   "execution_count": 21,
   "metadata": {},
   "outputs": [],
   "source": [
    "def main():\n",
    "    prices = [2,1,2,1,0,0,1]\n",
    "    s = Solution()\n",
    "    res = s.maxProfit(prices)\n",
    "    print(res)\n",
    "    return "
   ]
  },
  {
   "cell_type": "code",
   "execution_count": 22,
   "metadata": {},
   "outputs": [
    {
     "name": "stdout",
     "output_type": "stream",
     "text": [
      "1\n"
     ]
    }
   ],
   "source": [
    "if __name__ == \"__main__\":\n",
    "    main()"
   ]
  },
  {
   "cell_type": "code",
   "execution_count": null,
   "metadata": {},
   "outputs": [],
   "source": []
  }
 ],
 "metadata": {
  "kernelspec": {
   "display_name": "base",
   "language": "python",
   "name": "python3"
  },
  "language_info": {
   "codemirror_mode": {
    "name": "ipython",
    "version": 3
   },
   "file_extension": ".py",
   "mimetype": "text/x-python",
   "name": "python",
   "nbconvert_exporter": "python",
   "pygments_lexer": "ipython3",
   "version": "3.9.13"
  }
 },
 "nbformat": 4,
 "nbformat_minor": 2
}
