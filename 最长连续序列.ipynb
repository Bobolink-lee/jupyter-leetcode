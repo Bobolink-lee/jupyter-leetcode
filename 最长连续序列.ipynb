{
 "cells": [
  {
   "cell_type": "code",
   "execution_count": 17,
   "metadata": {},
   "outputs": [],
   "source": [
    "import time"
   ]
  },
  {
   "cell_type": "code",
   "execution_count": 43,
   "metadata": {},
   "outputs": [],
   "source": [
    "'''\n",
    "    解题思路：并查集法 时间复杂度O(n),空间复杂度O(n)\n",
    "        1、由于题目所给数组无序且可能有重复，有两种解法，但至少都需要去重\n",
    "        2、第一种解法是本解法，将数组转为集合后，达到了去重\n",
    "        3、根据题目要求性质，假设所找序列的第一个元素为x，则序列应该为\n",
    "            [x,x+1,x+2,...,x+y] 如果用暴力求解法，则需要重复遍历x+1,x+2...\n",
    "            使用set集合只需要对第一个元素进行遍历后续元素是否也都在集合中，\n",
    "            遍历过程更新最大长度。\n",
    "'''\n",
    "class Solution:\n",
    "    def longestConsecutive(self, nums: list[int]) -> int:\n",
    "        \n",
    "        answer = 0\n",
    "\n",
    "        # 将数组转为集合\n",
    "        s = set(nums)\n",
    "\n",
    "        # 遍历集合\n",
    "        for v in s:\n",
    "            # 仅对序列的第一个元素进行访问遍历，\n",
    "            # 由于是序列的第一个元素 v，则 v-1必定不在集合中\n",
    "            if v-1 not in s:\n",
    "                # 用于计数\n",
    "                i = 1\n",
    "\n",
    "                # 用于遍历序列的后续元素是否在集合中\n",
    "                n = v\n",
    "\n",
    "                # 后续元素必定是 n+1 且在集合中\n",
    "                while n+1 in s:\n",
    "                    i += 1\n",
    "                    n += 1\n",
    "\n",
    "                # 更新最大子序列长度\n",
    "                answer = max(answer,i)\n",
    "\n",
    "        return answer\n",
    "    \n",
    "    '''\n",
    "        解题思路2：去重排序遍历法\n",
    "            1、去重排序后，只需要一次遍历，遍历过程中 满足连续条件：\n",
    "                (nums[i+1] - nums[i]) == 1 则计数加一，并且更新最大值\n",
    "            2、若不满足条件 从新开始计数\n",
    "    '''\n",
    "    def longestConsecutive1(self, nums: list[int]) -> int:\n",
    "\n",
    "        # 先用set()将数组转set集合去重，再用list()将set集合转回数组\n",
    "        nums = list(set(nums))\n",
    "\n",
    "        # 对去重后的数组进行排序\n",
    "        nums.sort()\n",
    "        n = len(nums)\n",
    "\n",
    "        # m用于计数\n",
    "        m = 1\n",
    "\n",
    "        # answer最终结果\n",
    "        answer = 1\n",
    "\n",
    "        # 如果nums是个空数组，则直接返回0\n",
    "        if n == 0:\n",
    "            answer = 0\n",
    "        # 遍历0至n-1\n",
    "        for i in range(0,n-1):\n",
    "            # 满足连续条件 计数加一并更新最大值\n",
    "            if (nums[i+1] - nums[i]) == 1:\n",
    "                m += 1\n",
    "                answer = max(answer,m)\n",
    "            \n",
    "            # 不满足条件则重置计数\n",
    "            else:\n",
    "                m = 1\n",
    "\n",
    "        return answer"
   ]
  },
  {
   "cell_type": "code",
   "execution_count": 39,
   "metadata": {},
   "outputs": [],
   "source": [
    "def main():\n",
    "    s = Solution()\n",
    "    nums = [0,3,7,2,5,8,4,6,0,1]\n",
    "    answer = s.longestConsecutive(nums)\n",
    "\n",
    "    print(answer)\n",
    "\n",
    "    nums1 = [0,3,7,2,5,8,4,6,0,1]\n",
    "    answer1 = s.longestConsecutive1(nums1)\n",
    "\n",
    "    print(answer1)"
   ]
  },
  {
   "cell_type": "code",
   "execution_count": 44,
   "metadata": {},
   "outputs": [
    {
     "name": "stdout",
     "output_type": "stream",
     "text": [
      "9\n",
      "9\n"
     ]
    }
   ],
   "source": [
    "if __name__ == \"__main__\":\n",
    "    main()"
   ]
  }
 ],
 "metadata": {
  "kernelspec": {
   "display_name": "Python 3",
   "language": "python",
   "name": "python3"
  },
  "language_info": {
   "codemirror_mode": {
    "name": "ipython",
    "version": 3
   },
   "file_extension": ".py",
   "mimetype": "text/x-python",
   "name": "python",
   "nbconvert_exporter": "python",
   "pygments_lexer": "ipython3",
   "version": "3.10.2"
  },
  "orig_nbformat": 4,
  "vscode": {
   "interpreter": {
    "hash": "d30e6d4e6473c55ee31536bc57169ace291c153da81c0a4bb3e2b2828384d15a"
   }
  }
 },
 "nbformat": 4,
 "nbformat_minor": 2
}
