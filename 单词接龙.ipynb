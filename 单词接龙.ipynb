{
 "cells": [
  {
   "cell_type": "code",
   "execution_count": 5,
   "metadata": {},
   "outputs": [],
   "source": [
    "import collections\n",
    "\n",
    "'''\n",
    "    解题思路：\n",
    "        1、不会，放弃\n",
    "'''\n",
    "class Solution:\n",
    "    def ladderLength(self, beginWord: str, endWord: str, wordList: list[str]) -> int:\n",
    "        def addWord(word: str):\n",
    "            if word not in wordId:\n",
    "                nonlocal nodeNum\n",
    "                wordId[word] = nodeNum\n",
    "                nodeNum += 1\n",
    "        \n",
    "        def addEdge(word: str):\n",
    "            addWord(word)\n",
    "            id1 = wordId[word]\n",
    "            chars = list(word)\n",
    "            for i in range(len(chars)):\n",
    "                tmp = chars[i]\n",
    "                chars[i] = '*'\n",
    "                newWord = \"\".join(chars)\n",
    "                addWord(newWord)\n",
    "                id2 = wordId[newWord]\n",
    "                edge[id1].append(id2)\n",
    "                edge[id2].append(id1)\n",
    "                chars[i] = tmp  \n",
    "\n",
    "        wordId = dict()\n",
    "        edge = collections.defaultdict(list)\n",
    "        nodeNum = 0\n",
    "\n",
    "        for word in wordList:\n",
    "            addEdge(word)\n",
    "        \n",
    "        addEdge(beginWord)\n",
    "        if endWord not in wordId:\n",
    "            return 0\n",
    "        \n",
    "        dis = [float(\"inf\")] * nodeNum\n",
    "        beginId, endId = wordId[beginWord], wordId[endWord]\n",
    "        dis[beginId] = 0\n",
    "\n",
    "        que = collections.deque([beginId])\n",
    "        while que:\n",
    "            x = que.popleft()\n",
    "            if x == endId:\n",
    "                return dis[endId] // 2 +1\n",
    "            for it in edge[x]:\n",
    "                if dis[it] == float(\"inf\"):\n",
    "                    dis[it] = dis[x] + 1\n",
    "                    que.append(it)\n",
    "        return 0"
   ]
  },
  {
   "cell_type": "code",
   "execution_count": 6,
   "metadata": {},
   "outputs": [],
   "source": [
    "def main():\n",
    "    beginWord = \"hit\"\n",
    "    endWord = \"cog\"\n",
    "    wordList = [\"hot\",\"dot\",\"dog\",\"lot\",\"log\",\"cog\"]\n",
    "\n",
    "    s = Solution()\n",
    "    answer = s.ladderLength(beginWord, endWord, wordList)\n",
    "    print(answer)\n",
    "    return answer"
   ]
  },
  {
   "cell_type": "code",
   "execution_count": 7,
   "metadata": {},
   "outputs": [
    {
     "name": "stdout",
     "output_type": "stream",
     "text": [
      "5\n"
     ]
    }
   ],
   "source": [
    "if __name__ == '__main__':\n",
    "    main()"
   ]
  },
  {
   "cell_type": "code",
   "execution_count": null,
   "metadata": {},
   "outputs": [],
   "source": []
  },
  {
   "cell_type": "code",
   "execution_count": null,
   "metadata": {},
   "outputs": [],
   "source": []
  }
 ],
 "metadata": {
  "kernelspec": {
   "display_name": "Python 3",
   "language": "python",
   "name": "python3"
  },
  "language_info": {
   "codemirror_mode": {
    "name": "ipython",
    "version": 3
   },
   "file_extension": ".py",
   "mimetype": "text/x-python",
   "name": "python",
   "nbconvert_exporter": "python",
   "pygments_lexer": "ipython3",
   "version": "3.10.2"
  },
  "orig_nbformat": 4
 },
 "nbformat": 4,
 "nbformat_minor": 2
}
