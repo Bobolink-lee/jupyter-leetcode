{
 "cells": [
  {
   "cell_type": "code",
   "execution_count": 31,
   "metadata": {},
   "outputs": [],
   "source": [
    "class Solution:\n",
    "    def isMatch(self, s: str, p: str) -> bool:\n",
    "        i, j = 0, 0\n",
    "        \n",
    "        last_star, match = -1, 0\n",
    "\n",
    "        while i < len(s):\n",
    "            if j < len(p) and (p[j] == \"?\" or p[j] == s[i]):\n",
    "                i += 1\n",
    "                j += 1\n",
    "            elif j < len(p) and p[j] == \"*\":\n",
    "                last_star = j\n",
    "                match = i\n",
    "                j += 1\n",
    "            elif last_star != -1:\n",
    "                j = last_star + 1\n",
    "                match += 1\n",
    "                i = match\n",
    "            else:\n",
    "                return False\n",
    "        \n",
    "        while j < len(p) and p[j] == '*':\n",
    "            j += 1\n",
    "            \n",
    "        return j == len(p)"
   ]
  },
  {
   "cell_type": "code",
   "execution_count": 29,
   "metadata": {},
   "outputs": [],
   "source": [
    "from time import time\n",
    "def main():\n",
    "    start = time() * 1000\n",
    "    s = \"\"\n",
    "    p = \"********\"\n",
    "    sl = Solution()\n",
    "    res = sl.isMatch(s, p)\n",
    "    end = time() * 1000\n",
    "    print(f\"res is {res} and spend time {end - start:.3f}/milisecond\")\n",
    "    return None"
   ]
  },
  {
   "cell_type": "code",
   "execution_count": 30,
   "metadata": {},
   "outputs": [
    {
     "name": "stdout",
     "output_type": "stream",
     "text": [
      "res is True and spend time 0.000/milisecond\n"
     ]
    }
   ],
   "source": [
    "if __name__ == \"__main__\":\n",
    "    main()"
   ]
  },
  {
   "cell_type": "code",
   "execution_count": null,
   "metadata": {},
   "outputs": [],
   "source": []
  },
  {
   "cell_type": "code",
   "execution_count": 24,
   "metadata": {},
   "outputs": [
    {
     "data": {
      "text/plain": [
       "{'*'}"
      ]
     },
     "execution_count": 24,
     "metadata": {},
     "output_type": "execute_result"
    }
   ],
   "source": [
    "set(\"**********\")"
   ]
  },
  {
   "cell_type": "code",
   "execution_count": null,
   "metadata": {},
   "outputs": [],
   "source": []
  }
 ],
 "metadata": {
  "kernelspec": {
   "display_name": "base",
   "language": "python",
   "name": "python3"
  },
  "language_info": {
   "codemirror_mode": {
    "name": "ipython",
    "version": 3
   },
   "file_extension": ".py",
   "mimetype": "text/x-python",
   "name": "python",
   "nbconvert_exporter": "python",
   "pygments_lexer": "ipython3",
   "version": "3.9.13"
  }
 },
 "nbformat": 4,
 "nbformat_minor": 2
}
