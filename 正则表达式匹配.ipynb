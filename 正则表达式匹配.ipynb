{
 "cells": [
  {
   "cell_type": "code",
   "execution_count": 20,
   "metadata": {},
   "outputs": [],
   "source": [
    "class Solution:\n",
    "    def isMatch2D(self, s: str, p: str) -> bool:\n",
    "        m, n = len(s), len(p)\n",
    "        dp = [[False] * (n+1) for _ in range(m+1)]\n",
    "\n",
    "        # 初始化\n",
    "        dp[0][0] = True\n",
    "\n",
    "        for j in range(n):\n",
    "            if p[j - 1] == \"*\":\n",
    "                dp[0][j] = dp[0][j - 2]\n",
    "\n",
    "        # 状态更新\n",
    "        for i in range(1, n+1):\n",
    "            for j in range(1, m+1):\n",
    "                if s[i-1] == p[j-1] or p[j-1] == '.':\n",
    "                    dp[i][j] = dp[i-1][j-1]\n",
    "                elif p[j-1] == \"*\":\n",
    "                    if s[i-1] != p[j-2] and p[j-2] != '.':\n",
    "                        dp[i][j] = dp[i][j-2]\n",
    "                    else:\n",
    "                        dp[i][j] = dp[i-1][j] | dp[i][j-2]\n",
    "        \n",
    "        return dp[m][n]\n",
    "    \n",
    "    def isMatch1D(self, s: str, p: str) -> bool:\n",
    "        m, n = len(s), len(p)\n",
    "\n",
    "        dp = [False] * (n+1)\n",
    "\n",
    "        # 初始化\n",
    "        dp[0] = True\n",
    "        for i in range(1, n+1):\n",
    "            if p[i-1] == \"*\":\n",
    "                dp[i] = dp[i-2]\n",
    "        \n",
    "        # 状态更新\n",
    "        for i in range(1, m+1):\n",
    "            dp2 = [False] * (n+1)   # 滚动数组\n",
    "            for j in range(1, n+1):\n",
    "                if s[i-1] == p[j-1] or p[j-1] == \".\":\n",
    "                    dp2[j] = dp[j-1]\n",
    "                elif p[j-1] == \"*\":\n",
    "                    if s[i-1] != p[j-2] and p[j-2] != \".\":\n",
    "                        dp2[j] = dp2[j-2]\n",
    "                    else:\n",
    "                        dp2[j] = dp[j] | dp2[j-2]\n",
    "\n",
    "            dp = dp2                # 滚动数组\n",
    "        return dp[n]\n",
    "    \n",
    "    def isMatch1Dahead(self, s: str, p: str) -> bool:\n",
    "        m, n = len(s), len(p)\n",
    "\n",
    "        dp = [False] * (n+1)\n",
    "\n",
    "        # 初始化\n",
    "        dp[0] = True\n",
    "        for i in range(1, n+1):\n",
    "            if p[i-1] == \"*\":\n",
    "                dp[i] = dp[i-2]\n",
    "        \n",
    "        # 状态更新\n",
    "        for i in range(1, m+1):\n",
    "            dp2 = [False] * (n+1)   # 滚动数组\n",
    "            for j in range(1, n+1):\n",
    "                if s[i-1] == p[j-1] or p[j-1] == \".\":\n",
    "                    dp2[j] = dp[j-1]\n",
    "                elif p[j-1] == \"*\":\n",
    "                    if s[i-1] != p[j-2] and p[j-2] != \".\":\n",
    "                        dp2[j] = dp2[j-2]\n",
    "                    else:\n",
    "                        dp2[j] = dp[j] | dp[j-2]\n",
    "\n",
    "            dp = dp2                # 滚动数组\n",
    "\n",
    "            if sum(dp) == 0:        # 提前结束\n",
    "                return False    \n",
    "        return dp[n]"
   ]
  },
  {
   "cell_type": "code",
   "execution_count": 21,
   "metadata": {},
   "outputs": [],
   "source": [
    "from time import time\n",
    "def main():\n",
    "    start = time() * 1000\n",
    "    s = \"mississippi\"\n",
    "    p = \"mis*is*ip*.\"\n",
    "    sl = Solution()\n",
    "    res = sl.isMatch1Dahead(s, p)\n",
    "    end = time() * 1000\n",
    "\n",
    "    print(f\"res is {res} and spend time: {end - start: .3f}\")\n",
    "    return None"
   ]
  },
  {
   "cell_type": "code",
   "execution_count": 22,
   "metadata": {},
   "outputs": [
    {
     "name": "stdout",
     "output_type": "stream",
     "text": [
      "res is True and spend time:  0.000\n"
     ]
    }
   ],
   "source": [
    "if __name__ == \"__main__\":\n",
    "    main()"
   ]
  },
  {
   "cell_type": "code",
   "execution_count": null,
   "metadata": {},
   "outputs": [],
   "source": []
  }
 ],
 "metadata": {
  "kernelspec": {
   "display_name": "base",
   "language": "python",
   "name": "python3"
  },
  "language_info": {
   "codemirror_mode": {
    "name": "ipython",
    "version": 3
   },
   "file_extension": ".py",
   "mimetype": "text/x-python",
   "name": "python",
   "nbconvert_exporter": "python",
   "pygments_lexer": "ipython3",
   "version": "3.9.13"
  }
 },
 "nbformat": 4,
 "nbformat_minor": 2
}
