{
 "cells": [
  {
   "cell_type": "code",
   "execution_count": 1,
   "metadata": {},
   "outputs": [],
   "source": [
    "import math\n",
    "n = 1001733993063167141\n",
    "d = 212353\n",
    "C = 20190324"
   ]
  },
  {
   "cell_type": "code",
   "execution_count": 13,
   "metadata": {},
   "outputs": [
    {
     "name": "stdout",
     "output_type": "stream",
     "text": [
      "891234941\n"
     ]
    }
   ],
   "source": [
    "for p in range(2, int(n ** 0.5)):\n",
    "    if n % p == 0:\n",
    "        print(p)\n",
    "        break"
   ]
  },
  {
   "cell_type": "code",
   "execution_count": null,
   "metadata": {},
   "outputs": [],
   "source": [
    "q = n // p"
   ]
  },
  {
   "cell_type": "code",
   "execution_count": 2,
   "metadata": {},
   "outputs": [],
   "source": [
    "mid = n ** 0.5"
   ]
  },
  {
   "cell_type": "code",
   "execution_count": 4,
   "metadata": {},
   "outputs": [
    {
     "data": {
      "text/plain": [
       "(1000866621, 1000866622)"
      ]
     },
     "execution_count": 4,
     "metadata": {},
     "output_type": "execute_result"
    }
   ],
   "source": [
    "left = math.floor(mid)\n",
    "right = math.ceil(mid)\n",
    "left, right"
   ]
  },
  {
   "cell_type": "code",
   "execution_count": 7,
   "metadata": {},
   "outputs": [],
   "source": [
    "def isprime(num):\n",
    "    if num < 2:\n",
    "        return False\n",
    "    for i in range(2, int(math.sqrt(num)) + 1):\n",
    "        if n % i == 0:\n",
    "            return False\n",
    "    return True"
   ]
  },
  {
   "cell_type": "code",
   "execution_count": 10,
   "metadata": {},
   "outputs": [
    {
     "ename": "KeyboardInterrupt",
     "evalue": "",
     "output_type": "error",
     "traceback": [
      "\u001b[1;31m---------------------------------------------------------------------------\u001b[0m",
      "\u001b[1;31mKeyboardInterrupt\u001b[0m                         Traceback (most recent call last)",
      "\u001b[1;32m~\\AppData\\Local\\Temp\\ipykernel_18012\\3260227632.py\u001b[0m in \u001b[0;36m<module>\u001b[1;34m\u001b[0m\n\u001b[0;32m      1\u001b[0m \u001b[1;32mwhile\u001b[0m \u001b[0mleft\u001b[0m \u001b[1;33m>\u001b[0m \u001b[1;36m1\u001b[0m \u001b[1;32mand\u001b[0m \u001b[0mright\u001b[0m \u001b[1;33m<\u001b[0m \u001b[0mn\u001b[0m\u001b[1;33m:\u001b[0m\u001b[1;33m\u001b[0m\u001b[1;33m\u001b[0m\u001b[0m\n\u001b[1;32m----> 2\u001b[1;33m     \u001b[1;32mif\u001b[0m \u001b[0misprime\u001b[0m\u001b[1;33m(\u001b[0m\u001b[0mleft\u001b[0m\u001b[1;33m)\u001b[0m \u001b[1;32mand\u001b[0m \u001b[0misprime\u001b[0m\u001b[1;33m(\u001b[0m\u001b[0mright\u001b[0m\u001b[1;33m)\u001b[0m \u001b[1;32mand\u001b[0m \u001b[0mleft\u001b[0m \u001b[1;33m*\u001b[0m \u001b[0mright\u001b[0m \u001b[1;33m==\u001b[0m \u001b[0mn\u001b[0m\u001b[1;33m:\u001b[0m\u001b[1;33m\u001b[0m\u001b[1;33m\u001b[0m\u001b[0m\n\u001b[0m\u001b[0;32m      3\u001b[0m         \u001b[0mprint\u001b[0m\u001b[1;33m(\u001b[0m\u001b[0mleft\u001b[0m\u001b[1;33m,\u001b[0m \u001b[0mright\u001b[0m\u001b[1;33m)\u001b[0m\u001b[1;33m\u001b[0m\u001b[1;33m\u001b[0m\u001b[0m\n\u001b[0;32m      4\u001b[0m         \u001b[1;32mbreak\u001b[0m\u001b[1;33m\u001b[0m\u001b[1;33m\u001b[0m\u001b[0m\n\u001b[0;32m      5\u001b[0m     \u001b[1;32mif\u001b[0m \u001b[0misprime\u001b[0m\u001b[1;33m(\u001b[0m\u001b[0mleft\u001b[0m\u001b[1;33m)\u001b[0m \u001b[1;32mand\u001b[0m \u001b[0misprime\u001b[0m\u001b[1;33m(\u001b[0m\u001b[0mright\u001b[0m\u001b[1;33m)\u001b[0m \u001b[1;32mand\u001b[0m \u001b[0mleft\u001b[0m \u001b[1;33m*\u001b[0m \u001b[0mright\u001b[0m \u001b[1;33m!=\u001b[0m \u001b[0mn\u001b[0m\u001b[1;33m:\u001b[0m\u001b[1;33m\u001b[0m\u001b[1;33m\u001b[0m\u001b[0m\n",
      "\u001b[1;32m~\\AppData\\Local\\Temp\\ipykernel_18012\\1821563718.py\u001b[0m in \u001b[0;36misprime\u001b[1;34m(num)\u001b[0m\n\u001b[0;32m      3\u001b[0m         \u001b[1;32mreturn\u001b[0m \u001b[1;32mFalse\u001b[0m\u001b[1;33m\u001b[0m\u001b[1;33m\u001b[0m\u001b[0m\n\u001b[0;32m      4\u001b[0m     \u001b[1;32mfor\u001b[0m \u001b[0mi\u001b[0m \u001b[1;32min\u001b[0m \u001b[0mrange\u001b[0m\u001b[1;33m(\u001b[0m\u001b[1;36m2\u001b[0m\u001b[1;33m,\u001b[0m \u001b[0mint\u001b[0m\u001b[1;33m(\u001b[0m\u001b[0mmath\u001b[0m\u001b[1;33m.\u001b[0m\u001b[0msqrt\u001b[0m\u001b[1;33m(\u001b[0m\u001b[0mnum\u001b[0m\u001b[1;33m)\u001b[0m\u001b[1;33m)\u001b[0m \u001b[1;33m+\u001b[0m \u001b[1;36m1\u001b[0m\u001b[1;33m)\u001b[0m\u001b[1;33m:\u001b[0m\u001b[1;33m\u001b[0m\u001b[1;33m\u001b[0m\u001b[0m\n\u001b[1;32m----> 5\u001b[1;33m         \u001b[1;32mif\u001b[0m \u001b[0mn\u001b[0m \u001b[1;33m%\u001b[0m \u001b[0mi\u001b[0m \u001b[1;33m==\u001b[0m \u001b[1;36m0\u001b[0m\u001b[1;33m:\u001b[0m\u001b[1;33m\u001b[0m\u001b[1;33m\u001b[0m\u001b[0m\n\u001b[0m\u001b[0;32m      6\u001b[0m             \u001b[1;32mreturn\u001b[0m \u001b[1;32mFalse\u001b[0m\u001b[1;33m\u001b[0m\u001b[1;33m\u001b[0m\u001b[0m\n\u001b[0;32m      7\u001b[0m     \u001b[1;32mreturn\u001b[0m \u001b[1;32mTrue\u001b[0m\u001b[1;33m\u001b[0m\u001b[1;33m\u001b[0m\u001b[0m\n",
      "\u001b[1;31mKeyboardInterrupt\u001b[0m: "
     ]
    }
   ],
   "source": [
    "while left > 1 and right < n:\n",
    "    if isprime(left) and isprime(right) and left * right == n:\n",
    "        print(left, right)\n",
    "        break\n",
    "    if isprime(left) and isprime(right) and left * right != n:\n",
    "        right += 1\n",
    "        left -= 1\n",
    "    if isprime(left):\n",
    "        right += 1\n",
    "    if isprime(right):\n",
    "        left -= 1"
   ]
  },
  {
   "cell_type": "code",
   "execution_count": 14,
   "metadata": {},
   "outputs": [
    {
     "data": {
      "text/plain": [
       "77"
      ]
     },
     "execution_count": 14,
     "metadata": {},
     "output_type": "execute_result"
    }
   ],
   "source": [
    "2019 // 26"
   ]
  },
  {
   "cell_type": "code",
   "execution_count": 15,
   "metadata": {},
   "outputs": [
    {
     "data": {
      "text/plain": [
       "17"
      ]
     },
     "execution_count": 15,
     "metadata": {},
     "output_type": "execute_result"
    }
   ],
   "source": [
    "2019 % 26"
   ]
  },
  {
   "cell_type": "code",
   "execution_count": 17,
   "metadata": {},
   "outputs": [
    {
     "data": {
      "text/plain": [
       "'R'"
      ]
     },
     "execution_count": 17,
     "metadata": {},
     "output_type": "execute_result"
    }
   ],
   "source": [
    "chr(17+65)"
   ]
  },
  {
   "cell_type": "code",
   "execution_count": 14,
   "metadata": {},
   "outputs": [],
   "source": [
    "num = 2019\n",
    "s = \"\"\n",
    "while num != 0:\n",
    "    s = chr(64 + num%26) + s\n",
    "    num //= 26"
   ]
  },
  {
   "cell_type": "code",
   "execution_count": 15,
   "metadata": {},
   "outputs": [
    {
     "data": {
      "text/plain": [
       "'BYQ'"
      ]
     },
     "execution_count": 15,
     "metadata": {},
     "output_type": "execute_result"
    }
   ],
   "source": [
    "s"
   ]
  },
  {
   "cell_type": "code",
   "execution_count": 3,
   "metadata": {},
   "outputs": [
    {
     "name": "stdout",
     "output_type": "stream",
     "text": [
      "306\n"
     ]
    }
   ],
   "source": [
    "dp = [2, 3, 5, 7, 11, 13, 17, 19, 23, 29, 31, ]\n",
    "\n",
    "def isprime(num):\n",
    "    if num < 2:\n",
    "        return False\n",
    "    for i in range(2, int(num ** 0.5) + 1):\n",
    "        if num % i == 0:\n",
    "            return False\n",
    "    return True"
   ]
  },
  {
   "cell_type": "code",
   "execution_count": 5,
   "metadata": {},
   "outputs": [
    {
     "name": "stdout",
     "output_type": "stream",
     "text": [
      "17569\n"
     ]
    }
   ],
   "source": [
    "cnt = 0\n",
    "i = 0\n",
    "while cnt != 2019:\n",
    "    i += 1\n",
    "    if isprime(i):\n",
    "        cnt += 1\n",
    "print(i)"
   ]
  },
  {
   "cell_type": "code",
   "execution_count": 6,
   "metadata": {},
   "outputs": [
    {
     "data": {
      "text/plain": [
       "True"
      ]
     },
     "execution_count": 6,
     "metadata": {},
     "output_type": "execute_result"
    }
   ],
   "source": [
    "isprime(i)"
   ]
  },
  {
   "cell_type": "code",
   "execution_count": 5,
   "metadata": {},
   "outputs": [],
   "source": [
    "from datetime import datetime"
   ]
  },
  {
   "cell_type": "code",
   "execution_count": 8,
   "metadata": {},
   "outputs": [],
   "source": [
    "start = datetime(1901, 1, 1)\n",
    "end = datetime(2000, 12, 31)"
   ]
  },
  {
   "cell_type": "code",
   "execution_count": 9,
   "metadata": {},
   "outputs": [],
   "source": [
    "interval = end - start"
   ]
  },
  {
   "cell_type": "code",
   "execution_count": 11,
   "metadata": {},
   "outputs": [
    {
     "data": {
      "text/plain": [
       "5217"
      ]
     },
     "execution_count": 11,
     "metadata": {},
     "output_type": "execute_result"
    }
   ],
   "source": [
    "interval.days // 7"
   ]
  },
  {
   "cell_type": "code",
   "execution_count": 12,
   "metadata": {},
   "outputs": [
    {
     "name": "stdout",
     "output_type": "stream",
     "text": [
      "[[5650, 4542, 3554, 473, 946, 4114, 3871, 9073, 90, 4329], [2758, 7949, 6113, 5659, 5245, 7432, 3051, 4434, 6704, 3594], [9937, 1173, 6866, 3397, 4759, 7557, 3070, 2287, 1453, 9899], [1486, 5722, 3135, 1170, 4014, 5510, 5120, 729, 2880, 9019], [2049, 698, 4582, 4346, 4427, 646, 9742, 7340, 1230, 7683], [5693, 7015, 6887, 7381, 4172, 4341, 2909, 2027, 7355, 5649], [6701, 6645, 1671, 5978, 2704, 9926, 295, 3125, 3878, 6785], [2066, 4247, 4800, 1578, 6652, 4616, 1113, 6205, 3264, 2915], [3966, 5291, 2904, 1285, 2193, 1428, 2265, 8730, 9436, 7074], [689, 5510, 8243, 6114, 337, 4096, 8199, 7313, 3685, 211]]\n"
     ]
    }
   ],
   "source": [
    "data = []\n",
    "for i in range(10):\n",
    "    line = input().split(' ')\n",
    "    line = [int(num) for num in line]\n",
    "    data.append(line)\n",
    "print(data)"
   ]
  },
  {
   "cell_type": "code",
   "execution_count": 13,
   "metadata": {},
   "outputs": [],
   "source": [
    "data = [[5650, 4542, 3554, 473, 946, 4114, 3871, 9073, 90, 4329], \n",
    "        [2758, 7949, 6113, 5659, 5245, 7432, 3051, 4434, 6704, 3594], \n",
    "        [9937, 1173, 6866, 3397, 4759, 7557, 3070, 2287, 1453, 9899], \n",
    "        [1486, 5722, 3135, 1170, 4014, 5510, 5120, 729, 2880, 9019], \n",
    "        [2049, 698, 4582, 4346, 4427, 646, 9742, 7340, 1230, 7683], \n",
    "        [5693, 7015, 6887, 7381, 4172, 4341, 2909, 2027, 7355, 5649], \n",
    "        [6701, 6645, 1671, 5978, 2704, 9926, 295, 3125, 3878, 6785], \n",
    "        [2066, 4247, 4800, 1578, 6652, 4616, 1113, 6205, 3264, 2915], \n",
    "        [3966, 5291, 2904, 1285, 2193, 1428, 2265, 8730, 9436, 7074], \n",
    "        [689, 5510, 8243, 6114, 337, 4096, 8199, 7313, 3685, 211]]\n"
   ]
  },
  {
   "cell_type": "code",
   "execution_count": 24,
   "metadata": {},
   "outputs": [
    {
     "name": "stdout",
     "output_type": "stream",
     "text": [
      "31\n"
     ]
    }
   ],
   "source": [
    "a = 0\n",
    "b = 0\n",
    "for i in range(len(data)):\n",
    "    for j in range(len(data[i])):\n",
    "        k = data[i][j]\n",
    "        while k % 2 == 0:\n",
    "            a += 1\n",
    "            k //= 2\n",
    "        while k % 5 == 0:\n",
    "            b += 1\n",
    "            k //= 5\n",
    "if a > b:\n",
    "    print(b)\n",
    "else:\n",
    "    print(a)"
   ]
  },
  {
   "cell_type": "code",
   "execution_count": 1,
   "metadata": {},
   "outputs": [
    {
     "name": "stdout",
     "output_type": "stream",
     "text": [
      "[[4, 0, 4, 0, 4, 0, 4, 32, -1, -16, 4, 32, 4, 32, 4, 32, 4, 32, 4, 32, 8, 32, 8, 32, 16, 34, 16, 34, 32, 30, -64, 0], [16, 64, 16, 64, 34, 68, 127, 126, 66, -124, 67, 4, 66, 4, 66, -124, 126, 100, 66, 36, 66, 4, 66, 4, 66, 4, 126, 4, 66, 40, 0, 16], [4, 0, 4, 0, 4, 0, 4, 32, -1, -16, 4, 32, 4, 32, 4, 32, 4, 32, 4, 32, 8, 32, 8, 32, 16, 34, 16, 34, 32, 30, -64, 0], [0, -128, 64, -128, 48, -128, 17, 8, 1, -4, 2, 8, 8, 80, 16, 64, 32, 64, -32, 64, 32, -96, 32, -96, 33, 16, 34, 8, 36, 14, 40, 4], [4, 0, 3, 0, 1, 0, 0, 4, -1, -2, 4, 0, 4, 16, 7, -8, 4, 16, 4, 16, 4, 16, 8, 16, 8, 16, 16, 16, 32, -96, 64, 64], [16, 64, 20, 72, 62, -4, 73, 32, 5, 16, 1, 0, 63, -8, 1, 0, -1, -2, 0, 64, 0, 80, 63, -8, 8, 64, 4, 64, 1, 64, 0, -128], [0, 16, 63, -8, 1, 0, 1, 0, 1, 0, 1, 4, -1, -2, 1, 0, 1, 0, 1, 0, 1, 0, 1, 0, 1, 0, 1, 0, 5, 0, 2, 0], [2, 0, 2, 0, 7, -16, 8, 32, 24, 64, 37, -128, 2, -128, 12, -128, 113, -4, 2, 8, 12, 16, 18, 32, 33, -64, 1, 0, 14, 0, 112, 0], [1, 0, 1, 0, 1, 0, 9, 32, 9, 16, 17, 12, 17, 4, 33, 16, 65, 16, 1, 32, 1, 64, 0, -128, 1, 0, 2, 0, 12, 0, 112, 0], [0, 0, 0, 0, 7, -16, 24, 24, 48, 12, 56, 12, 0, 56, 0, -32, 0, -64, 0, -128, 0, 0, 0, 0, 1, -128, 3, -64, 1, -128, 0, 0]]\n"
     ]
    }
   ],
   "source": [
    "data = []\n",
    "for i in range(10):\n",
    "    line = input().split(' ')\n",
    "    line = [int(num) for num in line]\n",
    "    data.append(line)\n",
    "print(data)"
   ]
  },
  {
   "cell_type": "code",
   "execution_count": 63,
   "metadata": {},
   "outputs": [],
   "source": [
    "data = [[4, 0, 4, 0, 4, 0, 4, 32, -1, -16, 4, 32, 4, 32, 4, 32, 4, 32, 4, 32, 8, 32, 8, 32, 16, 34, 16, 34, 32, 30, -64, 0],\n",
    "        [16, 64, 16, 64, 34, 68, 127, 126, 66, -124, 67, 4, 66, 4, 66, -124, 126, 100, 66, 36, 66, 4, 66, 4, 66, 4, 126, 4, 66, 40, 0, 16],\n",
    "        [4, 0, 4, 0, 4, 0, 4, 32, -1, -16, 4, 32, 4, 32, 4, 32, 4, 32, 4, 32, 8, 32, 8, 32, 16, 34, 16, 34, 32, 30, -64, 0],\n",
    "        [0, -128, 64, -128, 48, -128, 17, 8, 1, -4, 2, 8, 8, 80, 16, 64, 32, 64, -32, 64, 32, -96, 32, -96, 33, 16, 34, 8, 36, 14, 40, 4],\n",
    "        [4, 0, 3, 0, 1, 0, 0, 4, -1, -2, 4, 0, 4, 16, 7, -8, 4, 16, 4, 16, 4, 16, 8, 16, 8, 16, 16, 16, 32, -96, 64, 64],\n",
    "        [16, 64, 20, 72, 62, -4, 73, 32, 5, 16, 1, 0, 63, -8, 1, 0, -1, -2, 0, 64, 0, 80, 63, -8, 8, 64, 4, 64, 1, 64, 0, -128],\n",
    "        [0, 16, 63, -8, 1, 0, 1, 0, 1, 0, 1, 4, -1, -2, 1, 0, 1, 0, 1, 0, 1, 0, 1, 0, 1, 0, 1, 0, 5, 0, 2, 0],\n",
    "        [2, 0, 2, 0, 7, -16, 8, 32, 24, 64, 37, -128, 2, -128, 12, -128, 113, -4, 2, 8, 12, 16, 18, 32, 33, -64, 1, 0, 14, 0, 112, 0],\n",
    "        [1, 0, 1, 0, 1, 0, 9, 32, 9, 16, 17, 12, 17, 4, 33, 16, 65, 16, 1, 32, 1, 64, 0, -128, 1, 0, 2, 0, 12, 0, 112, 0],\n",
    "        [0, 0, 0, 0, 7, -16, 24, 24, 48, 12, 56, 12, 0, 56, 0, -32, 0, -64, 0, -128, 0, 0, 0, 0, 1, -128, 3, -64, 1, -128, 0, 0]]"
   ]
  },
  {
   "cell_type": "code",
   "execution_count": 71,
   "metadata": {},
   "outputs": [],
   "source": [
    "def formatbinary(num):\n",
    "    binary = bin(num & 0b11111111)[2:] # 8位二进制表示，正数前几位补0，负数不需要\n",
    "\n",
    "    while len(binary) % 8 != 0:\n",
    "        binary = '0' + binary\n",
    "\n",
    "    return binary"
   ]
  },
  {
   "cell_type": "code",
   "execution_count": 72,
   "metadata": {},
   "outputs": [
    {
     "name": "stdout",
     "output_type": "stream",
     "text": [
      "     1          \n",
      "     1          \n",
      "     1          \n",
      "     1    1     \n",
      "111111111111    \n",
      "     1    1     \n",
      "     1    1     \n",
      "     1    1     \n",
      "     1    1     \n",
      "     1    1     \n",
      "    1     1     \n",
      "    1     1     \n",
      "   1      1   1 \n",
      "   1      1   1 \n",
      "  1        1111 \n",
      "11              \n",
      "   1     1      \n",
      "   1     1      \n",
      "  1   1  1   1  \n",
      " 1111111 111111 \n",
      " 1    1 1    1  \n",
      " 1    11     1  \n",
      " 1    1      1  \n",
      " 1    1 1    1  \n",
      " 111111  11  1  \n",
      " 1    1   1  1  \n",
      " 1    1      1  \n",
      " 1    1      1  \n",
      " 1    1      1  \n",
      " 111111      1  \n",
      " 1    1   1 1   \n",
      "           1    \n",
      "     1          \n",
      "     1          \n",
      "     1          \n",
      "     1    1     \n",
      "111111111111    \n",
      "     1    1     \n",
      "     1    1     \n",
      "     1    1     \n",
      "     1    1     \n",
      "     1    1     \n",
      "    1     1     \n",
      "    1     1     \n",
      "   1      1   1 \n",
      "   1      1   1 \n",
      "  1        1111 \n",
      "11              \n",
      "        1       \n",
      " 1      1       \n",
      "  11    1       \n",
      "   1   1    1   \n",
      "       1111111  \n",
      "      1     1   \n",
      "    1    1 1    \n",
      "   1     1      \n",
      "  1      1      \n",
      "111      1      \n",
      "  1     1 1     \n",
      "  1     1 1     \n",
      "  1    1   1    \n",
      "  1   1     1   \n",
      "  1  1      111 \n",
      "  1 1        1  \n",
      "     1          \n",
      "      11        \n",
      "       1        \n",
      "             1  \n",
      "111111111111111 \n",
      "     1          \n",
      "     1     1    \n",
      "     11111111   \n",
      "     1     1    \n",
      "     1     1    \n",
      "     1     1    \n",
      "    1      1    \n",
      "    1      1    \n",
      "   1       1    \n",
      "  1     1 1     \n",
      " 1       1      \n",
      "   1     1      \n",
      "   1 1   1  1   \n",
      "  11111 111111  \n",
      " 1  1  1  1     \n",
      "     1 1   1    \n",
      "       1        \n",
      "  11111111111   \n",
      "       1        \n",
      "111111111111111 \n",
      "         1      \n",
      "         1 1    \n",
      "  11111111111   \n",
      "    1    1      \n",
      "     1   1      \n",
      "       1 1      \n",
      "        1       \n",
      "           1    \n",
      "  11111111111   \n",
      "       1        \n",
      "       1        \n",
      "       1        \n",
      "       1     1  \n",
      "111111111111111 \n",
      "       1        \n",
      "       1        \n",
      "       1        \n",
      "       1        \n",
      "       1        \n",
      "       1        \n",
      "       1        \n",
      "     1 1        \n",
      "      1         \n",
      "      1         \n",
      "      1         \n",
      "     1111111    \n",
      "    1     1     \n",
      "   11    1      \n",
      "  1  1 11       \n",
      "      1 1       \n",
      "    11  1       \n",
      " 111   1111111  \n",
      "      1     1   \n",
      "    11     1    \n",
      "   1  1   1     \n",
      "  1    111      \n",
      "       1        \n",
      "    111         \n",
      " 111            \n",
      "       1        \n",
      "       1        \n",
      "       1        \n",
      "    1  1  1     \n",
      "    1  1   1    \n",
      "   1   1    11  \n",
      "   1   1     1  \n",
      "  1    1   1    \n",
      " 1     1   1    \n",
      "       1  1     \n",
      "       1 1      \n",
      "        1       \n",
      "       1        \n",
      "      1         \n",
      "    11          \n",
      " 111            \n",
      "                \n",
      "                \n",
      "     1111111    \n",
      "   11      11   \n",
      "  11        11  \n",
      "  111       11  \n",
      "          111   \n",
      "        111     \n",
      "        11      \n",
      "        1       \n",
      "                \n",
      "                \n",
      "       11       \n",
      "      1111      \n",
      "       11       \n",
      "                \n"
     ]
    }
   ],
   "source": [
    "for line in data:\n",
    "    for i in range(0, len(line), 2):\n",
    "        s = str(formatbinary(line[i]))+str(formatbinary(line[i+1]))\n",
    "        s = s.replace('0', ' ')\n",
    "        print(s)"
   ]
  },
  {
   "cell_type": "code",
   "execution_count": 3,
   "metadata": {},
   "outputs": [
    {
     "name": "stdout",
     "output_type": "stream",
     "text": [
      "17812964\n"
     ]
    }
   ],
   "source": [
    "for i in range(494804, 1000000008):\n",
    "    num1 = i * 2021\n",
    "    num2 = 999999999 + 1000000007 * (num1 // 1000000007)\n",
    "    if num1 == num2:\n",
    "        print(i)\n",
    "        break"
   ]
  },
  {
   "cell_type": "code",
   "execution_count": 4,
   "metadata": {},
   "outputs": [
    {
     "name": "stdout",
     "output_type": "stream",
     "text": [
      "{1: 3, 2: 1}\n",
      "4\n"
     ]
    }
   ],
   "source": [
    "n = 5\n",
    "lt = [1, 1, 1, 2]\n",
    "s = {}\n",
    "for num in lt:\n",
    "    if num not in s:\n",
    "        s[num] = 1\n",
    "    else:\n",
    "        s[num] += 1\n",
    "\n",
    "count = 0\n",
    "index = n-2\n",
    "count += s[lt[index]]\n",
    "\n",
    "while lt[index] != 1:\n",
    "    index = lt[index] - 2\n",
    "    count += s[lt[index]]\n",
    "\n",
    "print(count)"
   ]
  },
  {
   "cell_type": "code",
   "execution_count": 2,
   "metadata": {},
   "outputs": [
    {
     "data": {
      "text/plain": [
       "(5.0, 5, 0.0)"
      ]
     },
     "execution_count": 2,
     "metadata": {},
     "output_type": "execute_result"
    }
   ],
   "source": [
    "import math\n",
    "n = 125\n",
    "b = 3\n",
    "a = math.pow(n, 1/b)\n",
    "a, math.floor(a), a-math.floor(a)"
   ]
  },
  {
   "cell_type": "code",
   "execution_count": 3,
   "metadata": {},
   "outputs": [
    {
     "data": {
      "text/plain": [
       "True"
      ]
     },
     "execution_count": 3,
     "metadata": {},
     "output_type": "execute_result"
    }
   ],
   "source": [
    "s1 = \"30\"\n",
    "s2 = \"9\"\n",
    "s1 < s2"
   ]
  },
  {
   "cell_type": "code",
   "execution_count": null,
   "metadata": {},
   "outputs": [],
   "source": [
    "s=\"/.\""
   ]
  },
  {
   "cell_type": "code",
   "execution_count": 1,
   "metadata": {},
   "outputs": [
    {
     "data": {
      "text/plain": [
       "1"
      ]
     },
     "execution_count": 1,
     "metadata": {},
     "output_type": "execute_result"
    }
   ],
   "source": [
    "20**6 % 7"
   ]
  },
  {
   "cell_type": "code",
   "execution_count": 12,
   "metadata": {},
   "outputs": [],
   "source": [
    "num = 1456541\n",
    "s = str(num)\n",
    "l = len(s)\n",
    "mid = l // 2"
   ]
  },
  {
   "cell_type": "code",
   "execution_count": 13,
   "metadata": {},
   "outputs": [
    {
     "data": {
      "text/plain": [
       "True"
      ]
     },
     "execution_count": 13,
     "metadata": {},
     "output_type": "execute_result"
    }
   ],
   "source": [
    "s[::-1] == s"
   ]
  },
  {
   "cell_type": "code",
   "execution_count": 14,
   "metadata": {},
   "outputs": [
    {
     "data": {
      "text/plain": [
       "True"
      ]
     },
     "execution_count": 14,
     "metadata": {},
     "output_type": "execute_result"
    }
   ],
   "source": [
    "s[:mid:] <= s[mid::]"
   ]
  },
  {
   "cell_type": "code",
   "execution_count": 7,
   "metadata": {},
   "outputs": [
    {
     "ename": "KeyboardInterrupt",
     "evalue": "",
     "output_type": "error",
     "traceback": [
      "\u001b[1;31m---------------------------------------------------------------------------\u001b[0m",
      "\u001b[1;31mKeyboardInterrupt\u001b[0m                         Traceback (most recent call last)",
      "\u001b[1;32m~\\AppData\\Local\\Temp\\ipykernel_2944\\1813213193.py\u001b[0m in \u001b[0;36m<module>\u001b[1;34m\u001b[0m\n\u001b[0;32m      4\u001b[0m \u001b[1;33m\u001b[0m\u001b[0m\n\u001b[0;32m      5\u001b[0m \u001b[0mcount\u001b[0m \u001b[1;33m=\u001b[0m \u001b[1;36m0\u001b[0m\u001b[1;33m\u001b[0m\u001b[1;33m\u001b[0m\u001b[0m\n\u001b[1;32m----> 6\u001b[1;33m \u001b[1;32mfor\u001b[0m \u001b[0mnum\u001b[0m \u001b[1;32min\u001b[0m \u001b[0mrange\u001b[0m\u001b[1;33m(\u001b[0m\u001b[1;36m2022\u001b[0m\u001b[1;33m,\u001b[0m \u001b[1;36m2022222022\u001b[0m\u001b[1;33m+\u001b[0m\u001b[1;36m1\u001b[0m\u001b[1;33m)\u001b[0m\u001b[1;33m:\u001b[0m\u001b[1;33m\u001b[0m\u001b[1;33m\u001b[0m\u001b[0m\n\u001b[0m\u001b[0;32m      7\u001b[0m   \u001b[1;32mif\u001b[0m\u001b[1;33m(\u001b[0m\u001b[0misMoutain\u001b[0m\u001b[1;33m(\u001b[0m\u001b[0mnum\u001b[0m\u001b[1;33m)\u001b[0m\u001b[1;33m)\u001b[0m\u001b[1;33m:\u001b[0m\u001b[1;33m\u001b[0m\u001b[1;33m\u001b[0m\u001b[0m\n\u001b[0;32m      8\u001b[0m     \u001b[0mcount\u001b[0m \u001b[1;33m+=\u001b[0m \u001b[1;36m1\u001b[0m\u001b[1;33m\u001b[0m\u001b[1;33m\u001b[0m\u001b[0m\n",
      "\u001b[1;31mKeyboardInterrupt\u001b[0m: "
     ]
    }
   ],
   "source": []
  },
  {
   "cell_type": "code",
   "execution_count": 68,
   "metadata": {},
   "outputs": [
    {
     "data": {
      "text/plain": [
       "['z', 'z', 'c', 'c', 'c', 'c', 'a']"
      ]
     },
     "execution_count": 68,
     "metadata": {},
     "output_type": "execute_result"
    }
   ],
   "source": [
    "s = \"cczazcc\"\n",
    "repeatLimitation = 3\n",
    "ls = sorted(list(s), reverse=True)\n",
    "ls"
   ]
  },
  {
   "cell_type": "code",
   "execution_count": 69,
   "metadata": {},
   "outputs": [],
   "source": [
    "def solution(s, repeatLimitation):\n",
    "    i, j, idx = 1, 1, 0\n",
    "    k = []\n",
    "    repeat = 1\n",
    "    for x in range(1, len(ls)):\n",
    "        if(ls[x] != ls[x-1]):\n",
    "            k.append(x)\n",
    "    if(len(k) == 0 and len(ls) > repeatLimitation):\n",
    "        return ''.join(map(str, ls[:repeatLimitation]))\n",
    "    \n",
    "    j = k[idx]\n",
    "    while(i < len(ls)):\n",
    "        if ls[i] == ls[i-1] and repeat < repeatLimitation:\n",
    "            repeat += 1\n",
    "        elif ls[i] == ls[i-1] and repeat == repeatLimitation:\n",
    "            ls[i], ls[j] = ls[j], ls[i]\n",
    "            j += 1\n",
    "            if(j == len(s)):\n",
    "                i = min(i+repeatLimitation, len(ls)-1)\n",
    "                break\n",
    "        elif ls[i] != ls[i-1] and i == j:\n",
    "            repeat = 1\n",
    "            idx += 1\n",
    "            if(idx == len(k)):\n",
    "                i = min(i+repeatLimitation-1, len(ls))\n",
    "                break\n",
    "            j = k[idx]\n",
    "        i += 1\n",
    "    \n",
    "    return ''.join(map(str, ls[:i+1]))"
   ]
  },
  {
   "cell_type": "code",
   "execution_count": 70,
   "metadata": {},
   "outputs": [
    {
     "data": {
      "text/plain": [
       "'zzcccac'"
      ]
     },
     "execution_count": 70,
     "metadata": {},
     "output_type": "execute_result"
    }
   ],
   "source": [
    "solution(ls, repeatLimitation)"
   ]
  },
  {
   "cell_type": "code",
   "execution_count": 6,
   "metadata": {},
   "outputs": [
    {
     "data": {
      "text/plain": [
       "['one', 'two', 'three', 'four', 'five', 'six']"
      ]
     },
     "execution_count": 6,
     "metadata": {},
     "output_type": "execute_result"
    }
   ],
   "source": [
    "words = [\"one.two.three\",\"four.five\",\"six\"]\n",
    "res = []\n",
    "for word in words:\n",
    "    res += word.strip(\".\").split(\".\")\n",
    "res"
   ]
  },
  {
   "cell_type": "code",
   "execution_count": 1,
   "metadata": {},
   "outputs": [],
   "source": [
    "def is_pure(num):\n",
    "  for i in range(2, pow(num, 0.5)):\n",
    "    if num / i == num // i:\n",
    "      return True\n",
    "  return False"
   ]
  },
  {
   "cell_type": "code",
   "execution_count": null,
   "metadata": {},
   "outputs": [],
   "source": [
    "isprime"
   ]
  },
  {
   "cell_type": "code",
   "execution_count": null,
   "metadata": {},
   "outputs": [],
   "source": []
  }
 ],
 "metadata": {
  "kernelspec": {
   "display_name": "Python 3",
   "language": "python",
   "name": "python3"
  },
  "language_info": {
   "codemirror_mode": {
    "name": "ipython",
    "version": 3
   },
   "file_extension": ".py",
   "mimetype": "text/x-python",
   "name": "python",
   "nbconvert_exporter": "python",
   "pygments_lexer": "ipython3",
   "version": "3.9.13"
  },
  "orig_nbformat": 4,
  "vscode": {
   "interpreter": {
    "hash": "d30e6d4e6473c55ee31536bc57169ace291c153da81c0a4bb3e2b2828384d15a"
   }
  }
 },
 "nbformat": 4,
 "nbformat_minor": 2
}
