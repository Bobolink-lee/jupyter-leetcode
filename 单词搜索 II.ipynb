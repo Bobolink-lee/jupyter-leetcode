{
 "cells": [
  {
   "cell_type": "code",
   "execution_count": 25,
   "metadata": {},
   "outputs": [],
   "source": [
    "from typing import List\n",
    "from collections import defaultdict\n",
    "class Trie:\n",
    "    def __init__(self):\n",
    "        self.children = defaultdict(lambda : None)\n",
    "        self.isEnd = False\n",
    "\n",
    "    def insert(self, word: str) -> None:\n",
    "        node = self\n",
    "        for ch in word:\n",
    "            if node.children[ch] == None:\n",
    "                node.children[ch] = Trie()\n",
    "            node = node.children[ch]\n",
    "        node.isEnd = True\n",
    "\n",
    "class Solution:\n",
    "    def findWords(self, board: List[List[str]], words: List[str]) -> List[str]:\n",
    "        res = set()\n",
    "        m = len(board)\n",
    "        n = len(board[0])\n",
    "        def dfs(s, t, d, i, j, vision):\n",
    "            if d == len(t):\n",
    "                res.add(s)\n",
    "                return\n",
    "            for nx, ny in ((1, 0), (0, -1), (-1, 0), (0, 1)):\n",
    "                ni = i + nx\n",
    "                nj = j + ny\n",
    "                if 0 <= ni < m and 0 <= nj < n and board[ni][nj] == t[d] and vision[ni][nj] == False:\n",
    "                    vision[ni][nj] = True\n",
    "                    dfs(s+board[ni][nj], t, d+1, ni, nj, vision)\n",
    "                    vision[ni][nj] = False\n",
    "\n",
    "        for word in words:\n",
    "            vision = [[False] * n for _ in range(m)]\n",
    "            for i in range(m):\n",
    "                for j in range(n):\n",
    "                    if board[i][j] == word[0]:\n",
    "                        vision[i][j] = True\n",
    "                        dfs(word[0], word, 1, i, j, vision)\n",
    "                        vision[i][j] = False\n",
    "\n",
    "        return list(res)\n",
    "    \n",
    "    def findWordsUseTrie(self, board: List[List[str]], words: List[str]) -> List[str]:\n",
    "        # 构造前缀树Trie\n",
    "        trie = {}\n",
    "        for word in words:\n",
    "            t = trie\n",
    "            for ch in word:\n",
    "                if ch not in t:\n",
    "                    t[ch] = {}\n",
    "                t = t[ch]\n",
    "            t['isEnd'] = word\n",
    "        \n",
    "        rows, cols = len(board), len(board[0])\n",
    "        direction = [(0, 1), (0, -1), (1, 0), (-1, 0)]\n",
    "        ans = []\n",
    "\n",
    "        # 回溯遍历前缀树\n",
    "        def dfs(i, j, trie):\n",
    "            original = board[i][j]\n",
    "            node = trie[original]\n",
    "            board[i][j] = '#'\n",
    "            if 'isEnd' in node:\n",
    "                ans.append(node['isEnd'])\n",
    "                del node['isEnd']   # 找到后删除，避免重复\n",
    "            for di, dj in direction:\n",
    "                ni, nj = i+di, j+dj\n",
    "                if 0 <= ni < rows and 0 <= nj < cols and board[ni][nj] in node:\n",
    "                    dfs(ni, nj, node)\n",
    "            board[i][j] = original\n",
    "            if not node:\n",
    "                trie.pop(original)\n",
    "\n",
    "        for i in range(rows):\n",
    "            for j in range(cols):\n",
    "                if board[i][j] in trie:\n",
    "                    dfs(i, j, trie)\n",
    "\n",
    "        return ans"
   ]
  },
  {
   "cell_type": "code",
   "execution_count": 26,
   "metadata": {},
   "outputs": [],
   "source": [
    "import time\n",
    "def main():\n",
    "    s = Solution()\n",
    "\n",
    "    # start = time.time() * 1000\n",
    "    board = [[\"b\",\"a\",\"b\",\"a\",\"b\",\"a\",\"b\",\"a\",\"b\",\"a\"],[\"a\",\"b\",\"a\",\"b\",\"a\",\"b\",\"a\",\"b\",\"a\",\"b\"],[\"b\",\"a\",\"b\",\"a\",\"b\",\"a\",\"b\",\"a\",\"b\",\"a\"],[\"a\",\"b\",\"a\",\"b\",\"a\",\"b\",\"a\",\"b\",\"a\",\"b\"],[\"b\",\"a\",\"b\",\"a\",\"b\",\"a\",\"b\",\"a\",\"b\",\"a\"],[\"a\",\"b\",\"a\",\"b\",\"a\",\"b\",\"a\",\"b\",\"a\",\"b\"],[\"b\",\"a\",\"b\",\"a\",\"b\",\"a\",\"b\",\"a\",\"b\",\"a\"],[\"a\",\"b\",\"a\",\"b\",\"a\",\"b\",\"a\",\"b\",\"a\",\"b\"],[\"b\",\"a\",\"b\",\"a\",\"b\",\"a\",\"b\",\"a\",\"b\",\"a\"],[\"a\",\"b\",\"a\",\"b\",\"a\",\"b\",\"a\",\"b\",\"a\",\"b\"]]\n",
    "    words = [\"ababababaa\",\"ababababab\",\"ababababac\",\"ababababad\",\"ababababae\",\"ababababaf\",\"ababababag\",\"ababababah\",\"ababababai\",\"ababababaj\",\"ababababak\",\"ababababal\",\"ababababam\",\"ababababan\",\"ababababao\",\"ababababap\",\"ababababaq\",\"ababababar\",\"ababababas\",\"ababababat\",\"ababababau\",\"ababababav\",\"ababababaw\",\"ababababax\",\"ababababay\",\"ababababaz\",\"ababababba\",\"ababababbb\",\"ababababbc\",\"ababababbd\",\"ababababbe\",\"ababababbf\",\"ababababbg\",\"ababababbh\",\"ababababbi\",\"ababababbj\",\"ababababbk\",\"ababababbl\",\"ababababbm\",\"ababababbn\",\"ababababbo\",\"ababababbp\",\"ababababbq\",\"ababababbr\",\"ababababbs\",\"ababababbt\",\"ababababbu\",\"ababababbv\",\"ababababbw\",\"ababababbx\",\"ababababby\",\"ababababbz\",\"ababababca\",\"ababababcb\",\"ababababcc\",\"ababababcd\",\"ababababce\",\"ababababcf\",\"ababababcg\",\"ababababch\",\"ababababci\",\"ababababcj\",\"ababababck\",\"ababababcl\",\"ababababcm\",\"ababababcn\",\"ababababco\",\"ababababcp\",\"ababababcq\",\"ababababcr\",\"ababababcs\",\"ababababct\",\"ababababcu\",\"ababababcv\",\"ababababcw\",\"ababababcx\",\"ababababcy\",\"ababababcz\",\"ababababda\",\"ababababdb\",\"ababababdc\",\"ababababdd\",\"ababababde\",\"ababababdf\",\"ababababdg\",\"ababababdh\",\"ababababdi\",\"ababababdj\",\"ababababdk\",\"ababababdl\",\"ababababdm\",\"ababababdn\",\"ababababdo\",\"ababababdp\",\"ababababdq\",\"ababababdr\",\"ababababds\",\"ababababdt\",\"ababababdu\",\"ababababdv\",\"ababababdw\",\"ababababdx\",\"ababababdy\",\"ababababdz\",\"ababababea\",\"ababababeb\",\"ababababec\",\"ababababed\",\"ababababee\",\"ababababef\",\"ababababeg\",\"ababababeh\",\"ababababei\",\"ababababej\",\"ababababek\",\"ababababel\",\"ababababem\",\"ababababen\",\"ababababeo\",\"ababababep\",\"ababababeq\",\"ababababer\",\"ababababes\",\"ababababet\",\"ababababeu\",\"ababababev\",\"ababababew\",\"ababababex\",\"ababababey\",\"ababababez\",\"ababababfa\",\"ababababfb\",\"ababababfc\",\"ababababfd\",\"ababababfe\",\"ababababff\",\"ababababfg\",\"ababababfh\",\"ababababfi\",\"ababababfj\",\"ababababfk\",\"ababababfl\",\"ababababfm\",\"ababababfn\",\"ababababfo\",\"ababababfp\",\"ababababfq\",\"ababababfr\",\"ababababfs\",\"ababababft\",\"ababababfu\",\"ababababfv\",\"ababababfw\",\"ababababfx\",\"ababababfy\",\"ababababfz\",\"ababababga\",\"ababababgb\",\"ababababgc\",\"ababababgd\",\"ababababge\",\"ababababgf\",\"ababababgg\",\"ababababgh\",\"ababababgi\",\"ababababgj\",\"ababababgk\",\"ababababgl\",\"ababababgm\",\"ababababgn\",\"ababababgo\",\"ababababgp\",\"ababababgq\",\"ababababgr\",\"ababababgs\",\"ababababgt\",\"ababababgu\",\"ababababgv\",\"ababababgw\",\"ababababgx\",\"ababababgy\",\"ababababgz\",\"ababababha\",\"ababababhb\",\"ababababhc\",\"ababababhd\",\"ababababhe\",\"ababababhf\",\"ababababhg\",\"ababababhh\",\"ababababhi\",\"ababababhj\",\"ababababhk\",\"ababababhl\",\"ababababhm\",\"ababababhn\",\"ababababho\",\"ababababhp\",\"ababababhq\",\"ababababhr\",\"ababababhs\",\"ababababht\",\"ababababhu\",\"ababababhv\",\"ababababhw\",\"ababababhx\",\"ababababhy\",\"ababababhz\",\"ababababia\",\"ababababib\",\"ababababic\",\"ababababid\",\"ababababie\",\"ababababif\",\"ababababig\",\"ababababih\",\"ababababii\",\"ababababij\",\"ababababik\",\"ababababil\",\"ababababim\",\"ababababin\",\"ababababio\",\"ababababip\",\"ababababiq\",\"ababababir\",\"ababababis\",\"ababababit\",\"ababababiu\",\"ababababiv\",\"ababababiw\",\"ababababix\",\"ababababiy\",\"ababababiz\",\"ababababja\",\"ababababjb\",\"ababababjc\",\"ababababjd\",\"ababababje\",\"ababababjf\",\"ababababjg\",\"ababababjh\",\"ababababji\",\"ababababjj\",\"ababababjk\",\"ababababjl\",\"ababababjm\",\"ababababjn\",\"ababababjo\",\"ababababjp\",\"ababababjq\",\"ababababjr\",\"ababababjs\",\"ababababjt\",\"ababababju\",\"ababababjv\",\"ababababjw\",\"ababababjx\",\"ababababjy\",\"ababababjz\",\"ababababka\",\"ababababkb\",\"ababababkc\",\"ababababkd\",\"ababababke\",\"ababababkf\",\"ababababkg\",\"ababababkh\",\"ababababki\",\"ababababkj\",\"ababababkk\",\"ababababkl\",\"ababababkm\",\"ababababkn\",\"ababababko\",\"ababababkp\",\"ababababkq\",\"ababababkr\",\"ababababks\",\"ababababkt\",\"ababababku\",\"ababababkv\",\"ababababkw\",\"ababababkx\",\"ababababky\",\"ababababkz\",\"ababababla\",\"abababablb\",\"abababablc\",\"ababababld\",\"abababable\",\"abababablf\",\"abababablg\",\"abababablh\",\"ababababli\",\"abababablj\",\"abababablk\",\"ababababll\",\"abababablm\",\"ababababln\",\"abababablo\",\"abababablp\",\"abababablq\",\"abababablr\",\"ababababls\",\"abababablt\",\"abababablu\",\"abababablv\",\"abababablw\",\"abababablx\",\"abababably\",\"abababablz\",\"ababababma\",\"ababababmb\",\"ababababmc\",\"ababababmd\",\"ababababme\",\"ababababmf\",\"ababababmg\",\"ababababmh\",\"ababababmi\",\"ababababmj\",\"ababababmk\",\"ababababml\",\"ababababmm\",\"ababababmn\",\"ababababmo\",\"ababababmp\",\"ababababmq\",\"ababababmr\",\"ababababms\",\"ababababmt\",\"ababababmu\",\"ababababmv\",\"ababababmw\",\"ababababmx\",\"ababababmy\",\"ababababmz\",\"ababababna\",\"ababababnb\",\"ababababnc\",\"ababababnd\",\"ababababne\",\"ababababnf\",\"ababababng\",\"ababababnh\",\"ababababni\",\"ababababnj\",\"ababababnk\",\"ababababnl\",\"ababababnm\",\"ababababnn\",\"ababababno\",\"ababababnp\",\"ababababnq\",\"ababababnr\",\"ababababns\",\"ababababnt\",\"ababababnu\",\"ababababnv\",\"ababababnw\",\"ababababnx\",\"ababababny\",\"ababababnz\",\"ababababoa\",\"ababababob\",\"ababababoc\",\"ababababod\",\"ababababoe\",\"ababababof\",\"ababababog\",\"ababababoh\",\"ababababoi\",\"ababababoj\",\"ababababok\",\"ababababol\",\"ababababom\",\"ababababon\",\"ababababoo\",\"ababababop\",\"ababababoq\",\"ababababor\",\"ababababos\",\"ababababot\",\"ababababou\",\"ababababov\",\"ababababow\",\"ababababox\",\"ababababoy\",\"ababababoz\",\"ababababpa\",\"ababababpb\",\"ababababpc\",\"ababababpd\",\"ababababpe\",\"ababababpf\",\"ababababpg\",\"ababababph\",\"ababababpi\",\"ababababpj\",\"ababababpk\",\"ababababpl\",\"ababababpm\",\"ababababpn\",\"ababababpo\",\"ababababpp\",\"ababababpq\",\"ababababpr\",\"ababababps\",\"ababababpt\",\"ababababpu\",\"ababababpv\",\"ababababpw\",\"ababababpx\",\"ababababpy\",\"ababababpz\",\"ababababqa\",\"ababababqb\",\"ababababqc\",\"ababababqd\",\"ababababqe\",\"ababababqf\",\"ababababqg\",\"ababababqh\",\"ababababqi\",\"ababababqj\",\"ababababqk\",\"ababababql\",\"ababababqm\",\"ababababqn\",\"ababababqo\",\"ababababqp\",\"ababababqq\",\"ababababqr\",\"ababababqs\",\"ababababqt\",\"ababababqu\",\"ababababqv\",\"ababababqw\",\"ababababqx\",\"ababababqy\",\"ababababqz\",\"ababababra\",\"ababababrb\",\"ababababrc\",\"ababababrd\",\"ababababre\",\"ababababrf\",\"ababababrg\",\"ababababrh\",\"ababababri\",\"ababababrj\",\"ababababrk\",\"ababababrl\",\"ababababrm\",\"ababababrn\",\"ababababro\",\"ababababrp\",\"ababababrq\",\"ababababrr\",\"ababababrs\",\"ababababrt\",\"ababababru\",\"ababababrv\",\"ababababrw\",\"ababababrx\",\"ababababry\",\"ababababrz\",\"ababababsa\",\"ababababsb\",\"ababababsc\",\"ababababsd\",\"ababababse\",\"ababababsf\",\"ababababsg\",\"ababababsh\",\"ababababsi\",\"ababababsj\",\"ababababsk\",\"ababababsl\",\"ababababsm\",\"ababababsn\",\"ababababso\",\"ababababsp\",\"ababababsq\",\"ababababsr\",\"ababababss\",\"ababababst\",\"ababababsu\",\"ababababsv\",\"ababababsw\",\"ababababsx\",\"ababababsy\",\"ababababsz\",\"ababababta\",\"ababababtb\",\"ababababtc\",\"ababababtd\",\"ababababte\",\"ababababtf\",\"ababababtg\",\"ababababth\",\"ababababti\",\"ababababtj\",\"ababababtk\",\"ababababtl\",\"ababababtm\",\"ababababtn\",\"ababababto\",\"ababababtp\",\"ababababtq\",\"ababababtr\",\"ababababts\",\"ababababtt\",\"ababababtu\",\"ababababtv\",\"ababababtw\",\"ababababtx\",\"ababababty\",\"ababababtz\",\"ababababua\",\"ababababub\",\"ababababuc\",\"ababababud\",\"ababababue\",\"ababababuf\",\"ababababug\",\"ababababuh\",\"ababababui\",\"ababababuj\",\"ababababuk\",\"ababababul\",\"ababababum\",\"ababababun\",\"ababababuo\",\"ababababup\",\"ababababuq\",\"ababababur\",\"ababababus\",\"ababababut\",\"ababababuu\",\"ababababuv\",\"ababababuw\",\"ababababux\",\"ababababuy\",\"ababababuz\",\"ababababva\",\"ababababvb\",\"ababababvc\",\"ababababvd\",\"ababababve\",\"ababababvf\",\"ababababvg\",\"ababababvh\",\"ababababvi\",\"ababababvj\",\"ababababvk\",\"ababababvl\",\"ababababvm\",\"ababababvn\",\"ababababvo\",\"ababababvp\",\"ababababvq\",\"ababababvr\",\"ababababvs\",\"ababababvt\",\"ababababvu\",\"ababababvv\",\"ababababvw\",\"ababababvx\",\"ababababvy\",\"ababababvz\",\"ababababwa\",\"ababababwb\",\"ababababwc\",\"ababababwd\",\"ababababwe\",\"ababababwf\",\"ababababwg\",\"ababababwh\",\"ababababwi\",\"ababababwj\",\"ababababwk\",\"ababababwl\",\"ababababwm\",\"ababababwn\",\"ababababwo\",\"ababababwp\",\"ababababwq\",\"ababababwr\",\"ababababws\",\"ababababwt\",\"ababababwu\",\"ababababwv\",\"ababababww\",\"ababababwx\",\"ababababwy\",\"ababababwz\",\"ababababxa\",\"ababababxb\",\"ababababxc\",\"ababababxd\",\"ababababxe\",\"ababababxf\",\"ababababxg\",\"ababababxh\",\"ababababxi\",\"ababababxj\",\"ababababxk\",\"ababababxl\",\"ababababxm\",\"ababababxn\",\"ababababxo\",\"ababababxp\",\"ababababxq\",\"ababababxr\",\"ababababxs\",\"ababababxt\",\"ababababxu\",\"ababababxv\",\"ababababxw\",\"ababababxx\",\"ababababxy\",\"ababababxz\",\"ababababya\",\"ababababyb\",\"ababababyc\",\"ababababyd\",\"ababababye\",\"ababababyf\",\"ababababyg\",\"ababababyh\",\"ababababyi\",\"ababababyj\",\"ababababyk\",\"ababababyl\",\"ababababym\",\"ababababyn\",\"ababababyo\",\"ababababyp\",\"ababababyq\",\"ababababyr\",\"ababababys\",\"ababababyt\",\"ababababyu\",\"ababababyv\",\"ababababyw\",\"ababababyx\",\"ababababyy\",\"ababababyz\",\"ababababza\",\"ababababzb\",\"ababababzc\",\"ababababzd\",\"ababababze\",\"ababababzf\",\"ababababzg\",\"ababababzh\",\"ababababzi\",\"ababababzj\",\"ababababzk\",\"ababababzl\",\"ababababzm\",\"ababababzn\",\"ababababzo\",\"ababababzp\",\"ababababzq\",\"ababababzr\",\"ababababzs\",\"ababababzt\",\"ababababzu\",\"ababababzv\",\"ababababzw\",\"ababababzx\",\"ababababzy\",\"ababababzz\"]\n",
    "    # res = s.findWords(board, words)\n",
    "    # end = time.time() * 1000\n",
    "    # print(f\"s.findWords answer is {res} and spend time：{(end - start):.3f}\")\n",
    "\n",
    "    start = time.time() * 1000\n",
    "    # board = [[\"o\",\"a\",\"a\",\"n\"],[\"e\",\"t\",\"a\",\"e\"],[\"i\",\"h\",\"k\",\"r\"],[\"i\",\"f\",\"l\",\"v\"]]\n",
    "    # words = [\"oath\",\"pea\",\"eat\",\"rain\"]\n",
    "    res = s.findWordsUseTrie(board, words)\n",
    "    end = time.time() * 1000\n",
    "\n",
    "    print(f\"s.findWordsUseTrie answer is {res} and spend time：{(end - start):.3f}\")\n",
    "    return"
   ]
  },
  {
   "cell_type": "code",
   "execution_count": 27,
   "metadata": {},
   "outputs": [
    {
     "name": "stdout",
     "output_type": "stream",
     "text": [
      "s.findWordsUseTrie answer is ['ababababab'] and spend time：307.948\n"
     ]
    }
   ],
   "source": [
    "if __name__ == \"__main__\":\n",
    "    main()"
   ]
  },
  {
   "cell_type": "code",
   "execution_count": null,
   "metadata": {},
   "outputs": [],
   "source": [
    "from collections import defaultdict"
   ]
  }
 ],
 "metadata": {
  "kernelspec": {
   "display_name": "base",
   "language": "python",
   "name": "python3"
  },
  "language_info": {
   "codemirror_mode": {
    "name": "ipython",
    "version": 3
   },
   "file_extension": ".py",
   "mimetype": "text/x-python",
   "name": "python",
   "nbconvert_exporter": "python",
   "pygments_lexer": "ipython3",
   "version": "3.9.13"
  }
 },
 "nbformat": 4,
 "nbformat_minor": 2
}
