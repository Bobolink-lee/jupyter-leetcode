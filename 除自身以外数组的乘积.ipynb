{
 "cells": [
  {
   "cell_type": "code",
   "execution_count": 10,
   "metadata": {},
   "outputs": [],
   "source": [
    "# 解题思路：\n",
    "#   1、对于下标i位置的解集res[i] = nums[0...i-1]连乘积 * nums[i+1...n] 连乘积\n",
    "#   2、故对于res[i]，可以一次遍历，利用左边前缀乘积数 * 右边后缀乘积数\n",
    "#   3、每次循环过程同时更新 左边前缀乘积数、右边后缀乘积数、res[i]、res[n-i-1]\n",
    "#   4、更新思想是：从左到右遍历，则易知左边前缀乘积数，但不知右边后缀乘积数，同理从右到左亦是如此；\n",
    "#   5、故在一次遍历中，利用下标i与n-i-1对称式，可以做到同时镜像从左到右遍历与从右到左遍历，也可称作双向奔赴，镜像移动\n",
    "def solution(nums: list[int]) -> list[int]:\n",
    "\n",
    "    # 定义 元素均为1 长度为nums长度 的解集列表\n",
    "    n = len(nums)\n",
    "    answer = [1 for i in range(n)]\n",
    "\n",
    "    # 定义 左边前缀乘积数量 右边后缀乘积数\n",
    "    L = 1\n",
    "    R = 1\n",
    "\n",
    "    # 循环过程同时更新 左边前缀乘积数、右边后缀乘积数、res[i]、res[n-i-1]\n",
    "    for i in range(len(nums)):\n",
    "        answer[i] *= L\n",
    "        answer[n-i-1] *= R\n",
    "        L = L * nums[i]\n",
    "        R = R * nums[n-i-1]\n",
    "\n",
    "    return answer\n"
   ]
  },
  {
   "cell_type": "code",
   "execution_count": 11,
   "metadata": {},
   "outputs": [],
   "source": [
    "def main():\n",
    "    nums = [1,2,3,4]\n",
    "\n",
    "    answer = solution(nums)\n",
    "\n",
    "    print(answer)\n"
   ]
  },
  {
   "cell_type": "code",
   "execution_count": 12,
   "metadata": {},
   "outputs": [
    {
     "name": "stdout",
     "output_type": "stream",
     "text": [
      "[24, 12, 8, 6]\n"
     ]
    }
   ],
   "source": [
    "if __name__ == '__main__':\n",
    "    main()"
   ]
  },
  {
   "cell_type": "code",
   "execution_count": null,
   "metadata": {},
   "outputs": [],
   "source": []
  }
 ],
 "metadata": {
  "kernelspec": {
   "display_name": "Python 3",
   "language": "python",
   "name": "python3"
  },
  "language_info": {
   "codemirror_mode": {
    "name": "ipython",
    "version": 3
   },
   "file_extension": ".py",
   "mimetype": "text/x-python",
   "name": "python",
   "nbconvert_exporter": "python",
   "pygments_lexer": "ipython3",
   "version": "3.10.2"
  },
  "orig_nbformat": 4,
  "vscode": {
   "interpreter": {
    "hash": "d30e6d4e6473c55ee31536bc57169ace291c153da81c0a4bb3e2b2828384d15a"
   }
  }
 },
 "nbformat": 4,
 "nbformat_minor": 2
}
