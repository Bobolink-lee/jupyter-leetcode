{
 "cells": [
  {
   "cell_type": "code",
   "execution_count": 59,
   "metadata": {},
   "outputs": [],
   "source": [
    "import copy\n",
    "\n",
    "'''\n",
    "    解题思路：模拟\n",
    "        1、港真的，真g8难，难就难在python没有简单点的复制列表的方法，百度才找到一个copy.deepcopy()，结果leetcode用了有问题\n",
    "        2、python复制对象，需要注意分为浅拷贝（直接赋地址值，新列表改变，原列表也改变）和深拷贝（创建新地址，赋值内容、属性等）\n",
    "            其中 = 赋值符号为浅拷贝，copy.deepcopy()可以简单地实现深拷贝\n",
    "        3、本体思路就是模拟，大致就是定义一个方向组，拷贝一个新矩阵，按要求计算8个方向总数，满足条件，更新原矩阵即可\n",
    "'''\n",
    "def solution(board: list[list[int]]) -> None:\n",
    "    # 定义一个方向组，内含8个方向\n",
    "    direct = [[-1,0], [-1,1], [0,1], [1,1], [1,0], [1,-1], [0,-1], [-1,-1]]\n",
    "\n",
    "    row = len(board)\n",
    "    col = len(board[0])\n",
    "\n",
    "    # 深拷贝矩阵\n",
    "    temp = copy.deepcopy(board)\n",
    "    # leetcode上使用deepcopy有问题，故直接使用循环遍历创建temp矩阵\n",
    "    # temp = [[board[n][m] for m in range(col)] for n in range(row)]\n",
    "\n",
    "    # 循环遍历temp矩阵\n",
    "    for i in range(row):\n",
    "        for j in range(col):\n",
    "\n",
    "            # 统计8个方向的总和\n",
    "            total = 0\n",
    "            for x,y in direct:\n",
    "                if (i+x) >= 0 and (i+x) < row and (j+y) >= 0 and (j+y) < col:\n",
    "                    total += temp[i+x][j+y]\n",
    "            \n",
    "            # 根据满足条件，更新原矩阵\n",
    "            if temp[i][j] == 1 and (total < 2 or total > 3):\n",
    "                board[i][j] = 0\n",
    "            elif temp[i][j] == 0 and total == 3:\n",
    "                board[i][j] = 1\n",
    "    print(board)"
   ]
  },
  {
   "cell_type": "code",
   "execution_count": 66,
   "metadata": {},
   "outputs": [],
   "source": [
    "'''\n",
    "    改进要求：原地算法更新，即不使用临时矩阵temp辅助更新\n",
    "    解题思路：特殊模拟\n",
    "    1、解题难点为，直接模拟时候，统计更新部分会会受到周边数值的影响，故更新数值后也会影响后续更新的数值，而导致更新出错。\n",
    "\n",
    "    2、在解法1的基础上，由于原矩阵的数均为 0 或 1，故可以考虑使用其他数来表示数值的更新，\n",
    "        比如用2表示原来为0变成1，3表示原来为1变成0，在统计total时候便可以依此法，得到原来的数值，而不受当前周边数值影响。\n",
    "\n",
    "    3、在更新完成后，还需要对原矩阵进行清洗掉，2、3使他们变成应该得到值1、0。\n",
    "'''\n",
    "def optimization(board: list[list[int]]) -> None:\n",
    "\n",
    "    # 定义一个方向组，内含8个方向\n",
    "    direct = [[-1,0], [-1,1], [0,1], [1,1], [1,0], [1,-1], [0,-1], [-1,-1]]\n",
    "\n",
    "    row = len(board)\n",
    "    col = len(board[0])\n",
    "\n",
    "    for i in range(row):\n",
    "        for j in range(col):\n",
    "\n",
    "            # 统计8个方向的总和\n",
    "            total = 0\n",
    "            for x,y in direct:\n",
    "                if (i+x) >= 0 and (i+x) < row and (j+y) >= 0 and (j+y) < col:\n",
    "                    # 当前位置数值为1时候，计数加一；数值为3时候，表示附近的数值原来是1，故也计数加一\n",
    "                    if board[i+x][j+y] == 3 or board[i+x][j+y] == 1:\n",
    "                        total += 1\n",
    "            \n",
    "            # 根据满足条件，更新原矩阵\n",
    "            if board[i][j] == 1 and (total < 2 or total > 3):\n",
    "                # board[i][j] = 0 原来此处应该由1变0，由3代替表示\n",
    "                board[i][j] = 3\n",
    "            elif board[i][j] == 0 and total == 3:\n",
    "                # board[i][j] = 1 原来此处应该由0变1，由2代替表示\n",
    "                board[i][j] = 2\n",
    "    \n",
    "    # 数据清洗部分\n",
    "    for i in range(row):\n",
    "        for j in range(col):\n",
    "            # board[i][j] == 2 表示此处是由0变1，故更新为1\n",
    "            if board[i][j] == 2:\n",
    "                board[i][j] = 1\n",
    "            # board[i][j] == 3 表示此处是由1变0，故更新为0\n",
    "            elif board[i][j] == 3:\n",
    "                board[i][j] = 0\n",
    "\n",
    "    print(board)"
   ]
  },
  {
   "cell_type": "code",
   "execution_count": 67,
   "metadata": {},
   "outputs": [],
   "source": [
    "def main():\n",
    "    board = [[0,1,0],[0,0,1],[1,1,1],[0,0,0]]\n",
    "    solution(board)\n",
    "    board = [[0,1,0],[0,0,1],[1,1,1],[0,0,0]]\n",
    "    optimization(board)"
   ]
  },
  {
   "cell_type": "code",
   "execution_count": 68,
   "metadata": {},
   "outputs": [
    {
     "name": "stdout",
     "output_type": "stream",
     "text": [
      "[[0, 0, 0], [1, 0, 1], [0, 1, 1], [0, 1, 0]]\n",
      "[[0, 0, 0], [1, 0, 1], [0, 1, 1], [0, 1, 0]]\n"
     ]
    }
   ],
   "source": [
    "if __name__ == \"__main__\":\n",
    "    main()"
   ]
  }
 ],
 "metadata": {
  "kernelspec": {
   "display_name": "Python 3",
   "language": "python",
   "name": "python3"
  },
  "language_info": {
   "codemirror_mode": {
    "name": "ipython",
    "version": 3
   },
   "file_extension": ".py",
   "mimetype": "text/x-python",
   "name": "python",
   "nbconvert_exporter": "python",
   "pygments_lexer": "ipython3",
   "version": "3.10.2"
  },
  "orig_nbformat": 4,
  "vscode": {
   "interpreter": {
    "hash": "d30e6d4e6473c55ee31536bc57169ace291c153da81c0a4bb3e2b2828384d15a"
   }
  }
 },
 "nbformat": 4,
 "nbformat_minor": 2
}
