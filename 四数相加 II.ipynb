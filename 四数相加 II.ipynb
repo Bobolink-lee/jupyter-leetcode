{
 "cells": [
  {
   "cell_type": "code",
   "execution_count": 22,
   "metadata": {},
   "outputs": [],
   "source": [
    "import collections"
   ]
  },
  {
   "cell_type": "code",
   "execution_count": 23,
   "metadata": {},
   "outputs": [],
   "source": [
    "# 解题思路：\n",
    "#   1、使用哈希表（python为字典）存储计算结果    \n",
    "#   2、降低循环层数：\n",
    "#       （1）、nums1[i]+nums2[j]+nums3[k]+nums4[l] == 0 需要一个4层循环，即时间复杂度O(n^4) \n",
    "#       （2）、num1[i] == -(nums2[j]+nums3[k]+nums4[l]) 需要一个1层循环和一个三层循环，即时间复杂度O(n^3)\n",
    "#       （3）、nums1[i]+nums2[j] == -(nums3[k]+nums4[l]) 需要两个2层循环，即时间复杂度O(n^2)\n",
    "#   3、具体操作：\n",
    "#       （1）、创建哈希表，2层遍历nums1与nums2，存储 (nums1[i]+nums2[j]) 出现的次数\n",
    "#       （2）、2层遍历nums3与nums4，判断哈希表中是否存在 -(nums3[k]+nums4[l])，若存在则结果加上 (nums1[i]+nums2[j]) 出现的次数\n",
    "def solution(nums1: list[int], nums2: list[int], nums3: list[int], nums4: list[int]) -> int:\n",
    "    answer = 0\n",
    "    \n",
    "    n = len(nums1)\n",
    "\n",
    "    dict = {}\n",
    "    for n1 in nums1:\n",
    "        for n2 in nums2:\n",
    "            if (n1 + n2) not in dict:\n",
    "                dict[n1+n2] = 1\n",
    "            else :\n",
    "                dict[n1+n2] += 1\n",
    "\n",
    "    for n3 in nums3:\n",
    "        for n4 in nums4:\n",
    "            if (-(n3+n4)) in dict:\n",
    "                answer += dict[(-(n3+n4))]\n",
    "    \n",
    "    return answer"
   ]
  },
  {
   "cell_type": "code",
   "execution_count": null,
   "metadata": {},
   "outputs": [],
   "source": [
    "# 同思异解：\n",
    "#   1、思路与大致相同，只是使用了collections模块辅助解题\n",
    "#   2、collections.Counter(list) 可以统计list中重复出现元素的次数，并返回字典，以重复元素为key，出现次数为value\n",
    "#   3、collections.defaultdict(int) 可以创建一个哈希表，弥补了字典中没有 key不存在则返回默认值 的功能\n",
    "def solution2(nums1: list[int], nums2: list[int], nums3: list[int], nums4: list[int]) -> int:\n",
    "    answer = 0\n",
    "    \n",
    "    # 统计列表中，重复元素出现的次数\n",
    "    ds1 = collections.Counter(nums1)\n",
    "    ds2 = collections.Counter(nums2)\n",
    "    ds3 = collections.Counter(nums3)\n",
    "    ds4 = collections.Counter(nums4)\n",
    "\n",
    "    # 创建哈希表，分别用于存储nums1[i]+nums2[j]的出现次数、nums3[k]+nums4[l]的出现次数\n",
    "    dc12 = collections.defaultdict(int)\n",
    "    dc34 = collections.defaultdict(int)\n",
    "\n",
    "    # 迭代遍历 ds1与ds2\n",
    "    for k1,v1 in ds1.items():\n",
    "        for k2,v2 in ds2.items():\n",
    "            # 保存 nums1[i]+nums2[j] 一个出现的次数，由于ds已经统计出现次数，由组合计算为乘算\n",
    "            dc12[k1+k2] += (v1*v2)\n",
    "\n",
    "    # 同上\n",
    "    for k3,v3 in ds3.items():\n",
    "        for k4,v4 in ds4.items():\n",
    "            dc34[k3+k4] += (v3*v4)\n",
    "    \n",
    "    # 遍历12哈希表，若 -key 存在在 34哈希表中，则说明满足题目条件，两个哈希表出现次数乘算\n",
    "    for k,v in dc12.items():\n",
    "        if -k in dc34:\n",
    "            answer += (v * dc34[-k])\n",
    "\n",
    "    return answer"
   ]
  },
  {
   "cell_type": "code",
   "execution_count": 7,
   "metadata": {},
   "outputs": [],
   "source": [
    "def main() :\n",
    "    nums1 = [1,2]\n",
    "    nums2 = [-2,-1]\n",
    "    nums3 = [-1,2]\n",
    "    nums4 = [0,2]\n",
    "\n",
    "    answer = solution(nums1,nums2,nums3,nums4)\n",
    "\n",
    "    print(answer)"
   ]
  },
  {
   "cell_type": "code",
   "execution_count": 24,
   "metadata": {},
   "outputs": [
    {
     "name": "stdout",
     "output_type": "stream",
     "text": [
      "2\n"
     ]
    }
   ],
   "source": [
    "if __name__ == \"__main__\" :\n",
    "    main()"
   ]
  }
 ],
 "metadata": {
  "kernelspec": {
   "display_name": "Python 3",
   "language": "python",
   "name": "python3"
  },
  "language_info": {
   "codemirror_mode": {
    "name": "ipython",
    "version": 3
   },
   "file_extension": ".py",
   "mimetype": "text/x-python",
   "name": "python",
   "nbconvert_exporter": "python",
   "pygments_lexer": "ipython3",
   "version": "3.10.2"
  },
  "orig_nbformat": 4,
  "vscode": {
   "interpreter": {
    "hash": "d30e6d4e6473c55ee31536bc57169ace291c153da81c0a4bb3e2b2828384d15a"
   }
  }
 },
 "nbformat": 4,
 "nbformat_minor": 2
}
