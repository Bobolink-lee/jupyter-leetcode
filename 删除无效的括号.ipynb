{
 "cells": [
  {
   "cell_type": "code",
   "execution_count": 34,
   "metadata": {},
   "outputs": [],
   "source": [
    "from typing import List\n",
    "from queue import Queue\n",
    "class Solution:\n",
    "    def removeInvalidParentheses(self, s: str) -> List[str]:\n",
    "        res = set()\n",
    "        def isValid(x: str) -> bool:\n",
    "            if x == \"\":\n",
    "                return True\n",
    "            stack = []\n",
    "            for i in range(len(x)):\n",
    "                if x[i] == \"(\":\n",
    "                    stack.append(x[i])\n",
    "                elif x[i] == \")\" and len(stack) == 0:\n",
    "                    return False\n",
    "                elif x[i] == \")\" and stack[-1] == \"(\":\n",
    "                    stack.pop()\n",
    "            if len(stack) == 0:\n",
    "                return True\n",
    "            else:\n",
    "                return False\n",
    "        \n",
    "        q = Queue()\n",
    "        q.put(s)\n",
    "        q.put(\"#\")\n",
    "        while not q.empty():\n",
    "            node = q.get()\n",
    "            if node != \"#\":\n",
    "                if isValid(node) and node not in res:\n",
    "                    res.add(node)\n",
    "                else:\n",
    "                    for i in range(len(node)):\n",
    "                        if node[i] not in [\"(\", \")\"]:\n",
    "                            continue\n",
    "                        temp = \"\".join(node)\n",
    "                        temp = temp[:i] + temp[i+1:]\n",
    "                        q.put(temp)\n",
    "            elif node == \"#\" and len(res) > 0:\n",
    "                return list(res)\n",
    "            elif node == \"#\" and not q.empty():\n",
    "                q.put(\"#\")\n",
    "\n",
    "        return list(res)\n",
    "    \n",
    "    def removeInvalidParentheses1(self, s: str) -> List[str]:\n",
    "        res = []\n",
    "        lremove, rremove = 0, 0\n",
    "        for c in s:\n",
    "            if c == '(':\n",
    "                lremove += 1\n",
    "            elif c == ')':\n",
    "                if lremove == 0:\n",
    "                    rremove += 1\n",
    "                else:\n",
    "                    lremove -= 1\n",
    "\n",
    "        def isValid(s):\n",
    "            cnt = 0\n",
    "            for c in s:\n",
    "                if c == '(':\n",
    "                    cnt += 1\n",
    "                elif c == ')':\n",
    "                    cnt -= 1\n",
    "                    if cnt < 0:\n",
    "                        return False\n",
    "            return cnt == 0\n",
    "        \n",
    "        def helper(s, start, lremove, rremove):\n",
    "            if lremove == 0 and rremove == 0:\n",
    "                if isValid(s):\n",
    "                    res.append(s)\n",
    "                return \n",
    "            \n",
    "            for i in range(start, len(s)):\n",
    "                if i > start and s[i] == s[i-1]:\n",
    "                    continue\n",
    "                \n",
    "                if lremove + rremove > len(s) - i:\n",
    "                    break\n",
    "\n",
    "                if lremove > 0 and s[i] == '(':\n",
    "                    helper(s[:i]+s[i+1:], i, lremove-1, rremove)\n",
    "                if rremove > 0 and s[i] == ')':\n",
    "                    helper(s[:i]+s[i+1:], i, lremove, rremove-1)\n",
    "\n",
    "        helper(s, 0, lremove, rremove)\n",
    "        return res"
   ]
  },
  {
   "cell_type": "code",
   "execution_count": 35,
   "metadata": {},
   "outputs": [],
   "source": [
    "import time\n",
    "def main():\n",
    "    start = time.time() * 1000\n",
    "    s = \"()(((((((()\"\n",
    "    sl = Solution()\n",
    "    res = sl.removeInvalidParentheses1(s)\n",
    "    end = time.time() * 1000\n",
    "    print(f\"res is {res} and spend time {end - start:.3f}/miliensecond\")\n",
    "    return None"
   ]
  },
  {
   "cell_type": "code",
   "execution_count": 36,
   "metadata": {},
   "outputs": [
    {
     "name": "stdout",
     "output_type": "stream",
     "text": [
      "res is ['()()'] and spend time 0.000/miliensecond\n"
     ]
    }
   ],
   "source": [
    "if __name__ == \"__main__\":\n",
    "    main()"
   ]
  },
  {
   "cell_type": "code",
   "execution_count": null,
   "metadata": {},
   "outputs": [],
   "source": []
  }
 ],
 "metadata": {
  "kernelspec": {
   "display_name": "base",
   "language": "python",
   "name": "python3"
  },
  "language_info": {
   "codemirror_mode": {
    "name": "ipython",
    "version": 3
   },
   "file_extension": ".py",
   "mimetype": "text/x-python",
   "name": "python",
   "nbconvert_exporter": "python",
   "pygments_lexer": "ipython3",
   "version": "3.9.13"
  }
 },
 "nbformat": 4,
 "nbformat_minor": 2
}
