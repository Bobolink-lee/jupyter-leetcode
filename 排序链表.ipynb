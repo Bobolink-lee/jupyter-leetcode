{
 "cells": [
  {
   "cell_type": "code",
   "execution_count": 6,
   "metadata": {},
   "outputs": [],
   "source": [
    "from typing import Optional\n",
    "from queue import PriorityQueue"
   ]
  },
  {
   "cell_type": "code",
   "execution_count": 7,
   "metadata": {},
   "outputs": [],
   "source": [
    "class ListNode:\n",
    "     def __init__(self, val=0, next=None):\n",
    "         self.val = val\n",
    "         self.next = next"
   ]
  },
  {
   "cell_type": "code",
   "execution_count": 22,
   "metadata": {},
   "outputs": [],
   "source": [
    "'''\n",
    "    解题思路：\n",
    "        1、暴力法，用堆排序，遍历完整个链表，并加入优先队列中，自动排序，再封装回链表\n",
    "        2、分治法，归并排序，将每个节点分成各个小分，小分里再排序，再把小分排序组成大分，与上一题同理“合并K个排序链表”\n",
    "'''\n",
    "class Solution:\n",
    "    def sortList(self, head: Optional[ListNode]) -> Optional[ListNode]:\n",
    "        p_queue = PriorityQueue()\n",
    "        node = head\n",
    "        while node is not None:\n",
    "            p_queue.put(node.val)\n",
    "            node = node.next\n",
    "        \n",
    "        p = head\n",
    "        while not p_queue.empty():\n",
    "            p.val = p_queue.get()\n",
    "            p = p.next\n",
    "        return head\n",
    "\n",
    "    def sortList1(self, head: Optional[ListNode]) -> Optional[ListNode]:\n",
    "        p = q = head\n",
    "        list = []\n",
    "        while p is not None:\n",
    "            if p.next is None:\n",
    "                list.append(q)\n",
    "                p = p.next\n",
    "            elif p.val > p.next.val:\n",
    "                list.append(q)\n",
    "                q = p.next\n",
    "                p.next = None\n",
    "                p = q\n",
    "            else:\n",
    "                p = p.next\n",
    "        return self.mergeDivid(list, len(list))\n",
    "    \n",
    "    def mergeTwoList(self, list1: Optional[ListNode], list2: Optional[ListNode]) -> Optional[ListNode]:\n",
    "        if list1 is None:\n",
    "            return list2\n",
    "        elif list2 is None:\n",
    "            return list1\n",
    "        \n",
    "        p = list1\n",
    "        q = list2\n",
    "        head = ListNode()\n",
    "        node = head\n",
    "        while p is not None and q is not None:\n",
    "            if p.val < q.val:\n",
    "                node.next = p\n",
    "                p = p.next\n",
    "            else:\n",
    "                node.next = q\n",
    "                q = q.next\n",
    "            node = node.next\n",
    "        \n",
    "        if p is None:\n",
    "            node.next = q\n",
    "        if q is None:\n",
    "            node.next = p\n",
    "        \n",
    "        return head.next\n",
    "    \n",
    "    def mergeDivid(self, lists: list[Optional[ListNode]], listSize: int):\n",
    "        if listSize == 0:\n",
    "            return None\n",
    "        elif listSize == 1:\n",
    "            return lists[0]\n",
    "        elif listSize == 2:\n",
    "            return self.mergeTwoList(lists[0], lists[1])\n",
    "        else:\n",
    "            mid = listSize // 2\n",
    "            return self.mergeTwoList(self.mergeDivid(lists[:mid], mid), self.mergeDivid(lists[mid:], listSize-mid))"
   ]
  },
  {
   "cell_type": "code",
   "execution_count": 23,
   "metadata": {},
   "outputs": [],
   "source": [
    "def main():\n",
    "    head = [-1,5,3,4,0]\n",
    "    link = ListNode()\n",
    "    p = link\n",
    "    for num in head:\n",
    "        q = ListNode(num)\n",
    "        p.next = q\n",
    "        p = q\n",
    "    link = link.next\n",
    "    s = Solution()\n",
    "    answer = s.sortList1(link)\n",
    "\n",
    "    p = answer\n",
    "    while p is not None:\n",
    "        print(p.val)\n",
    "        p = p.next\n",
    "    return 0"
   ]
  },
  {
   "cell_type": "code",
   "execution_count": 24,
   "metadata": {},
   "outputs": [
    {
     "name": "stdout",
     "output_type": "stream",
     "text": [
      "-1\n",
      "0\n",
      "3\n",
      "4\n",
      "5\n"
     ]
    }
   ],
   "source": [
    "if __name__ == '__main__':\n",
    "    main()"
   ]
  },
  {
   "cell_type": "code",
   "execution_count": null,
   "metadata": {},
   "outputs": [],
   "source": []
  }
 ],
 "metadata": {
  "kernelspec": {
   "display_name": "base",
   "language": "python",
   "name": "python3"
  },
  "language_info": {
   "codemirror_mode": {
    "name": "ipython",
    "version": 3
   },
   "file_extension": ".py",
   "mimetype": "text/x-python",
   "name": "python",
   "nbconvert_exporter": "python",
   "pygments_lexer": "ipython3",
   "version": "3.9.13"
  },
  "orig_nbformat": 4
 },
 "nbformat": 4,
 "nbformat_minor": 2
}
