{
 "cells": [
  {
   "cell_type": "code",
   "execution_count": 28,
   "metadata": {},
   "outputs": [],
   "source": [
    "# 解题思路：\n",
    "# 1、直接模拟，矩阵为m行n列矩阵，则必然循环m*n次\n",
    "# 2、控制边界，设 min_row = 0，min_col = 0，max_row = matrix.length-1，max_col = matrix[0].length-1\n",
    "# 3、循环过程，row表示行，col表示列，从 row=0、col=0 开始，进行如下规则运行：\n",
    "#       （1）、col先增长至max_col，说明对于min_row最小行已经遍历完，则min_row += 1\n",
    "#       （2）、row再增长至max_row，说明对于max_col最大列已经遍历完，则max_col -= 1\n",
    "#       （3）、col减小至min_col，说明对于max_row最大行已经遍历完，则max_row -= 1\n",
    "#       （4）、row减小至min_row，说明对于min_col最小列已经遍历完，则min_col += 1\n",
    "# 4、重复上述过程，直至min_col > max_col || min_row > max_row\n",
    "\n",
    "def solution(matrix: list[list[int]]) -> list[int]:\n",
    "\n",
    "    # m行n列矩阵\n",
    "    m = len(matrix)\n",
    "    n = len(matrix[0])\n",
    "\n",
    "    answer = []\n",
    "\n",
    "    # 控制边界\n",
    "    min_row = 0\n",
    "    min_col = 0\n",
    "    max_row = m-1\n",
    "    max_col = n-1\n",
    "\n",
    "    # 遍历矩阵所使用的下标\n",
    "    row = 0\n",
    "    col = 0\n",
    "    mode = 1\n",
    "\n",
    "    # 对解题思路反向写循环\n",
    "    while min_col <= max_col and min_row <= max_row:\n",
    "        answer.append(matrix[row][col])\n",
    "\n",
    "        # 矩阵下标到达边界，根据模式情况，改变边界值\n",
    "        if col == max_col and mode == 1:\n",
    "            min_row += 1\n",
    "            mode = 2\n",
    "        elif row == max_row and mode == 2:\n",
    "            max_col -= 1\n",
    "            mode = 3\n",
    "        elif col == min_col and mode == 3:\n",
    "            max_row -= 1\n",
    "            mode = 4\n",
    "        elif row == min_row and mode == 4:\n",
    "            min_col += 1\n",
    "            mode = 1\n",
    "        \n",
    "        # 矩阵下标移动方向\n",
    "        if mode == 1:\n",
    "            col += 1\n",
    "        elif mode == 2:\n",
    "            row += 1\n",
    "        elif mode == 3:\n",
    "            col -= 1\n",
    "        elif mode == 4:\n",
    "            row -= 1\n",
    "\n",
    "    return answer"
   ]
  },
  {
   "cell_type": "code",
   "execution_count": 36,
   "metadata": {},
   "outputs": [],
   "source": [
    "def main():\n",
    "    \n",
    "    matrix = [[1]]\n",
    "    answer = solution(matrix)\n",
    "\n",
    "    print(answer)"
   ]
  },
  {
   "cell_type": "code",
   "execution_count": 37,
   "metadata": {},
   "outputs": [
    {
     "name": "stdout",
     "output_type": "stream",
     "text": [
      "row = 0, col = 0, max_row = 3, max_col = 0, min_row = 0, min_col = 0\n",
      "row = 1, col = 0, max_row = 3, max_col = 0, min_row = 1, min_col = 0\n",
      "row = 2, col = 0, max_row = 3, max_col = 0, min_row = 1, min_col = 0\n",
      "row = 3, col = 0, max_row = 3, max_col = 0, min_row = 1, min_col = 0\n",
      "[1, 2, 3, 4]\n"
     ]
    }
   ],
   "source": [
    "if __name__ == \"__main__\":\n",
    "    main()"
   ]
  }
 ],
 "metadata": {
  "kernelspec": {
   "display_name": "Python 3",
   "language": "python",
   "name": "python3"
  },
  "language_info": {
   "codemirror_mode": {
    "name": "ipython",
    "version": 3
   },
   "file_extension": ".py",
   "mimetype": "text/x-python",
   "name": "python",
   "nbconvert_exporter": "python",
   "pygments_lexer": "ipython3",
   "version": "3.10.2"
  },
  "orig_nbformat": 4,
  "vscode": {
   "interpreter": {
    "hash": "d30e6d4e6473c55ee31536bc57169ace291c153da81c0a4bb3e2b2828384d15a"
   }
  }
 },
 "nbformat": 4,
 "nbformat_minor": 2
}
