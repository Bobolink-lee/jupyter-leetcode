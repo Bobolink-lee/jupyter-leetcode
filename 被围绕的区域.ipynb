{
 "cells": [
  {
   "cell_type": "code",
   "execution_count": 117,
   "metadata": {},
   "outputs": [],
   "source": [
    "from collections import deque"
   ]
  },
  {
   "cell_type": "markdown",
   "metadata": {},
   "source": [
    "![Alt text](img/被围绕的区域.png)"
   ]
  },
  {
   "cell_type": "code",
   "execution_count": 118,
   "metadata": {},
   "outputs": [],
   "source": [
    "'''\n",
    "    解题思路：\n",
    "        1、广度优先遍历，增加一个相同大小的矩阵作为flag，flag[i][j]表示当前位置是否被访问过，题目明确到，能连通边界则不改变，那么可以反向思维，从边界开始向内部广度优先遍历\n",
    "        找出所有不需要改变的'O'，并标记此位置(i, j)已经被访问过，然后再遍历board矩阵，若其对应位置的flag标识为0，表示当前位置没有被访问过，则表示此处需要改变。\n",
    "'''\n",
    "\n",
    "class Solution:\n",
    "    def solve(self, board: list[list[str]]) -> None:\n",
    "        \"\"\"\n",
    "        Do not return anything, modify board in-place instead.\n",
    "        \"\"\"\n",
    "        row = len(board)\n",
    "        col = len(board[0])\n",
    "\n",
    "        flag = [[0 for _ in range(col)] for _ in range(row)] \n",
    "        directs = [[0, 1], [1, 0], [0, -1], [-1, 0]]\n",
    "        def BreadFirstSerch(i: int, j: int) -> None:\n",
    "            queue = deque()\n",
    "            if board[i][j] == 'O' and flag[i][j] == 0:\n",
    "                flag[i][j] = 1\n",
    "                queue.append([i, j])\n",
    "            \n",
    "            while len(queue) != 0:\n",
    "                new_i, new_j = queue.pop()\n",
    "                for dt in directs:\n",
    "                    next_i, next_j = new_i + dt[0], new_j + dt[1]\n",
    "                    if next_i < 0 or next_i >= row or next_j < 0 or next_j >= col:\n",
    "                        continue\n",
    "                    if board[next_i][next_j] == 'O' and flag[next_i][next_j] == 0:\n",
    "                        flag[next_i][next_j] = 1\n",
    "                        queue.append([next_i, next_j])\n",
    "\n",
    "        for j in range(col):\n",
    "            BreadFirstSerch(0, j)\n",
    "            BreadFirstSerch(row-1, j)\n",
    "\n",
    "        for i in range(row):\n",
    "            BreadFirstSerch(i, 0)\n",
    "            BreadFirstSerch(i, col-1)\n",
    "\n",
    "        for i in range(1, row):\n",
    "            for j in range(1, col):\n",
    "                if board[i][j] == 'O' and flag[i][j] == 0:\n",
    "                        board[i][j] = 'X'"
   ]
  },
  {
   "cell_type": "code",
   "execution_count": 119,
   "metadata": {},
   "outputs": [],
   "source": [
    "def main():\n",
    "    board = [[\"O\",\"X\",\"X\",\"O\",\"X\"],\n",
    "             [\"X\",\"O\",\"O\",\"X\",\"O\"],\n",
    "             [\"X\",\"O\",\"X\",\"O\",\"X\"],\n",
    "             [\"O\",\"X\",\"O\",\"O\",\"O\"],\n",
    "             [\"X\",\"X\",\"O\",\"X\",\"O\"]]\n",
    "    s = Solution()\n",
    "    s.solve(board=board)\n",
    "\n",
    "    print(board)\n",
    "    return None"
   ]
  },
  {
   "cell_type": "code",
   "execution_count": 120,
   "metadata": {},
   "outputs": [
    {
     "name": "stdout",
     "output_type": "stream",
     "text": [
      "[['O', 'X', 'X', 'O', 'X'], ['X', 'X', 'X', 'X', 'O'], ['X', 'X', 'X', 'O', 'X'], ['O', 'X', 'O', 'O', 'O'], ['X', 'X', 'O', 'X', 'O']]\n"
     ]
    }
   ],
   "source": [
    "if __name__ == \"__main__\":\n",
    "    main()"
   ]
  },
  {
   "cell_type": "code",
   "execution_count": null,
   "metadata": {},
   "outputs": [],
   "source": []
  },
  {
   "cell_type": "code",
   "execution_count": null,
   "metadata": {},
   "outputs": [],
   "source": []
  }
 ],
 "metadata": {
  "kernelspec": {
   "display_name": "Python 3",
   "language": "python",
   "name": "python3"
  },
  "language_info": {
   "codemirror_mode": {
    "name": "ipython",
    "version": 3
   },
   "file_extension": ".py",
   "mimetype": "text/x-python",
   "name": "python",
   "nbconvert_exporter": "python",
   "pygments_lexer": "ipython3",
   "version": "3.10.2"
  },
  "orig_nbformat": 4
 },
 "nbformat": 4,
 "nbformat_minor": 2
}
